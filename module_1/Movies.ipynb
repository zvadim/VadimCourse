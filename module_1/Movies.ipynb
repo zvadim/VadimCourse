{
 "cells": [
  {
   "cell_type": "code",
   "execution_count": 158,
   "metadata": {
    "_cell_guid": "b1076dfc-b9ad-4769-8c92-a6c4dae69d19",
    "_uuid": "8f2839f25d086af736a60e9eeb907d3b93b6e0e5",
    "colab": {},
    "colab_type": "code",
    "id": "U2D2gTdJVp90"
   },
   "outputs": [],
   "source": [
    "import numpy as np\n",
    "import pandas as pd\n",
    "import seaborn as sns\n",
    "import matplotlib.pyplot as plt\n",
    "from itertools import combinations \n",
    "from collections import Counter"
   ]
  },
  {
   "cell_type": "code",
   "execution_count": 75,
   "metadata": {
    "_cell_guid": "79c7e3d0-c299-4dcb-8224-4455121ee9b0",
    "_uuid": "d629ff2d2480ee46fbb7e2d37f6b5fab8052498a",
    "colab": {},
    "colab_type": "code",
    "id": "oyGfxL3eVp9-"
   },
   "outputs": [
    {
     "data": {
      "text/html": [
       "<div>\n",
       "<style scoped>\n",
       "    .dataframe tbody tr th:only-of-type {\n",
       "        vertical-align: middle;\n",
       "    }\n",
       "\n",
       "    .dataframe tbody tr th {\n",
       "        vertical-align: top;\n",
       "    }\n",
       "\n",
       "    .dataframe thead th {\n",
       "        text-align: right;\n",
       "    }\n",
       "</style>\n",
       "<table border=\"1\" class=\"dataframe\">\n",
       "  <thead>\n",
       "    <tr style=\"text-align: right;\">\n",
       "      <th></th>\n",
       "      <th>imdb_id</th>\n",
       "      <th>budget</th>\n",
       "      <th>revenue</th>\n",
       "      <th>original_title</th>\n",
       "      <th>cast</th>\n",
       "      <th>director</th>\n",
       "      <th>tagline</th>\n",
       "      <th>overview</th>\n",
       "      <th>runtime</th>\n",
       "      <th>genres</th>\n",
       "      <th>production_companies</th>\n",
       "      <th>release_date</th>\n",
       "      <th>vote_average</th>\n",
       "      <th>release_year</th>\n",
       "    </tr>\n",
       "  </thead>\n",
       "  <tbody>\n",
       "    <tr>\n",
       "      <th>466</th>\n",
       "      <td>tt1287468</td>\n",
       "      <td>85000000</td>\n",
       "      <td>112483764</td>\n",
       "      <td>Cats &amp; Dogs 2 : The Revenge of Kitty Galore</td>\n",
       "      <td>James Marsden|Nick Nolte|Christina Applegate|B...</td>\n",
       "      <td>Brad Peyton</td>\n",
       "      <td>Just like real spies... only furrier.</td>\n",
       "      <td>The ongoing war between the canine and feline ...</td>\n",
       "      <td>82</td>\n",
       "      <td>Comedy|Family</td>\n",
       "      <td>Village Roadshow Pictures</td>\n",
       "      <td>7/30/2010</td>\n",
       "      <td>5.0</td>\n",
       "      <td>2010</td>\n",
       "    </tr>\n",
       "    <tr>\n",
       "      <th>1122</th>\n",
       "      <td>tt0322330</td>\n",
       "      <td>26000000</td>\n",
       "      <td>110230332</td>\n",
       "      <td>Freaky Friday</td>\n",
       "      <td>Jamie Lee Curtis|Lindsay Lohan|Mark Harmon|Har...</td>\n",
       "      <td>Mark Waters</td>\n",
       "      <td>Mondays are manic. Wednesdays are wild. And Fr...</td>\n",
       "      <td>Mother and daughter bicker over everything -- ...</td>\n",
       "      <td>97</td>\n",
       "      <td>Comedy|Family|Fantasy</td>\n",
       "      <td>Walt Disney Pictures</td>\n",
       "      <td>8/3/2003</td>\n",
       "      <td>6.0</td>\n",
       "      <td>2003</td>\n",
       "    </tr>\n",
       "    <tr>\n",
       "      <th>1624</th>\n",
       "      <td>tt0358135</td>\n",
       "      <td>50000000</td>\n",
       "      <td>170128460</td>\n",
       "      <td>Shall We Dance?</td>\n",
       "      <td>Richard Gere|Jennifer Lopez|Susan Sarandon|Lis...</td>\n",
       "      <td>Peter Chelsom</td>\n",
       "      <td>Step out of the ordinary</td>\n",
       "      <td>A romantic comedy where a bored, overworked Es...</td>\n",
       "      <td>107</td>\n",
       "      <td>Drama|Romance|Comedy</td>\n",
       "      <td>Miramax Films</td>\n",
       "      <td>10/15/2004</td>\n",
       "      <td>5.8</td>\n",
       "      <td>2004</td>\n",
       "    </tr>\n",
       "    <tr>\n",
       "      <th>260</th>\n",
       "      <td>tt1041829</td>\n",
       "      <td>40000000</td>\n",
       "      <td>317375031</td>\n",
       "      <td>The Proposal</td>\n",
       "      <td>Sandra Bullock|Ryan Reynolds|Mary Steenburgen|...</td>\n",
       "      <td>Anne Fletcher</td>\n",
       "      <td>Here comes the bribe...</td>\n",
       "      <td>When she learns she's in danger of losing her ...</td>\n",
       "      <td>108</td>\n",
       "      <td>Comedy|Romance|Drama</td>\n",
       "      <td>Touchstone Pictures|Mandeville Films|Kurtzman/...</td>\n",
       "      <td>6/1/2009</td>\n",
       "      <td>6.7</td>\n",
       "      <td>2009</td>\n",
       "    </tr>\n",
       "    <tr>\n",
       "      <th>366</th>\n",
       "      <td>tt1263670</td>\n",
       "      <td>7000000</td>\n",
       "      <td>39462438</td>\n",
       "      <td>Crazy Heart</td>\n",
       "      <td>Jeff Bridges|Maggie Gyllenhaal|Colin Farrell|R...</td>\n",
       "      <td>Scott Cooper</td>\n",
       "      <td>The harder the life, the sweeter the song.</td>\n",
       "      <td>When reporter Jean Craddock interviews Bad Bla...</td>\n",
       "      <td>112</td>\n",
       "      <td>Drama|Music|Romance</td>\n",
       "      <td>Fox Searchlight Pictures|Butcher's Run Films|I...</td>\n",
       "      <td>12/16/2009</td>\n",
       "      <td>6.4</td>\n",
       "      <td>2009</td>\n",
       "    </tr>\n",
       "  </tbody>\n",
       "</table>\n",
       "</div>"
      ],
      "text/plain": [
       "        imdb_id    budget    revenue  \\\n",
       "466   tt1287468  85000000  112483764   \n",
       "1122  tt0322330  26000000  110230332   \n",
       "1624  tt0358135  50000000  170128460   \n",
       "260   tt1041829  40000000  317375031   \n",
       "366   tt1263670   7000000   39462438   \n",
       "\n",
       "                                   original_title  \\\n",
       "466   Cats & Dogs 2 : The Revenge of Kitty Galore   \n",
       "1122                                Freaky Friday   \n",
       "1624                              Shall We Dance?   \n",
       "260                                  The Proposal   \n",
       "366                                   Crazy Heart   \n",
       "\n",
       "                                                   cast       director  \\\n",
       "466   James Marsden|Nick Nolte|Christina Applegate|B...    Brad Peyton   \n",
       "1122  Jamie Lee Curtis|Lindsay Lohan|Mark Harmon|Har...    Mark Waters   \n",
       "1624  Richard Gere|Jennifer Lopez|Susan Sarandon|Lis...  Peter Chelsom   \n",
       "260   Sandra Bullock|Ryan Reynolds|Mary Steenburgen|...  Anne Fletcher   \n",
       "366   Jeff Bridges|Maggie Gyllenhaal|Colin Farrell|R...   Scott Cooper   \n",
       "\n",
       "                                                tagline  \\\n",
       "466               Just like real spies... only furrier.   \n",
       "1122  Mondays are manic. Wednesdays are wild. And Fr...   \n",
       "1624                           Step out of the ordinary   \n",
       "260                             Here comes the bribe...   \n",
       "366          The harder the life, the sweeter the song.   \n",
       "\n",
       "                                               overview  runtime  \\\n",
       "466   The ongoing war between the canine and feline ...       82   \n",
       "1122  Mother and daughter bicker over everything -- ...       97   \n",
       "1624  A romantic comedy where a bored, overworked Es...      107   \n",
       "260   When she learns she's in danger of losing her ...      108   \n",
       "366   When reporter Jean Craddock interviews Bad Bla...      112   \n",
       "\n",
       "                     genres  \\\n",
       "466           Comedy|Family   \n",
       "1122  Comedy|Family|Fantasy   \n",
       "1624   Drama|Romance|Comedy   \n",
       "260    Comedy|Romance|Drama   \n",
       "366     Drama|Music|Romance   \n",
       "\n",
       "                                   production_companies release_date  \\\n",
       "466                           Village Roadshow Pictures    7/30/2010   \n",
       "1122                               Walt Disney Pictures     8/3/2003   \n",
       "1624                                      Miramax Films   10/15/2004   \n",
       "260   Touchstone Pictures|Mandeville Films|Kurtzman/...     6/1/2009   \n",
       "366   Fox Searchlight Pictures|Butcher's Run Films|I...   12/16/2009   \n",
       "\n",
       "      vote_average  release_year  \n",
       "466            5.0          2010  \n",
       "1122           6.0          2003  \n",
       "1624           5.8          2004  \n",
       "260            6.7          2009  \n",
       "366            6.4          2009  "
      ]
     },
     "execution_count": 75,
     "metadata": {},
     "output_type": "execute_result"
    }
   ],
   "source": [
    "data = pd.read_csv('E:\\Programming\\Data Science\\\\movie_bd_v5.csv')\n",
    "data.sample(5)"
   ]
  },
  {
   "cell_type": "code",
   "execution_count": 9,
   "metadata": {
    "colab": {},
    "colab_type": "code",
    "id": "CoYUnagMVp-C"
   },
   "outputs": [
    {
     "data": {
      "text/html": [
       "<div>\n",
       "<style scoped>\n",
       "    .dataframe tbody tr th:only-of-type {\n",
       "        vertical-align: middle;\n",
       "    }\n",
       "\n",
       "    .dataframe tbody tr th {\n",
       "        vertical-align: top;\n",
       "    }\n",
       "\n",
       "    .dataframe thead th {\n",
       "        text-align: right;\n",
       "    }\n",
       "</style>\n",
       "<table border=\"1\" class=\"dataframe\">\n",
       "  <thead>\n",
       "    <tr style=\"text-align: right;\">\n",
       "      <th></th>\n",
       "      <th>budget</th>\n",
       "      <th>revenue</th>\n",
       "      <th>runtime</th>\n",
       "      <th>vote_average</th>\n",
       "      <th>release_year</th>\n",
       "    </tr>\n",
       "  </thead>\n",
       "  <tbody>\n",
       "    <tr>\n",
       "      <th>count</th>\n",
       "      <td>1.889000e+03</td>\n",
       "      <td>1.889000e+03</td>\n",
       "      <td>1889.000000</td>\n",
       "      <td>1889.000000</td>\n",
       "      <td>1889.000000</td>\n",
       "    </tr>\n",
       "    <tr>\n",
       "      <th>mean</th>\n",
       "      <td>5.431083e+07</td>\n",
       "      <td>1.553653e+08</td>\n",
       "      <td>109.658549</td>\n",
       "      <td>6.140762</td>\n",
       "      <td>2007.860773</td>\n",
       "    </tr>\n",
       "    <tr>\n",
       "      <th>std</th>\n",
       "      <td>4.858721e+07</td>\n",
       "      <td>2.146698e+08</td>\n",
       "      <td>18.017041</td>\n",
       "      <td>0.764763</td>\n",
       "      <td>4.468841</td>\n",
       "    </tr>\n",
       "    <tr>\n",
       "      <th>min</th>\n",
       "      <td>5.000000e+06</td>\n",
       "      <td>2.033165e+06</td>\n",
       "      <td>63.000000</td>\n",
       "      <td>3.300000</td>\n",
       "      <td>2000.000000</td>\n",
       "    </tr>\n",
       "    <tr>\n",
       "      <th>25%</th>\n",
       "      <td>2.000000e+07</td>\n",
       "      <td>3.456058e+07</td>\n",
       "      <td>97.000000</td>\n",
       "      <td>5.600000</td>\n",
       "      <td>2004.000000</td>\n",
       "    </tr>\n",
       "    <tr>\n",
       "      <th>50%</th>\n",
       "      <td>3.800000e+07</td>\n",
       "      <td>8.361541e+07</td>\n",
       "      <td>107.000000</td>\n",
       "      <td>6.100000</td>\n",
       "      <td>2008.000000</td>\n",
       "    </tr>\n",
       "    <tr>\n",
       "      <th>75%</th>\n",
       "      <td>7.200000e+07</td>\n",
       "      <td>1.782626e+08</td>\n",
       "      <td>120.000000</td>\n",
       "      <td>6.600000</td>\n",
       "      <td>2012.000000</td>\n",
       "    </tr>\n",
       "    <tr>\n",
       "      <th>max</th>\n",
       "      <td>3.800000e+08</td>\n",
       "      <td>2.781506e+09</td>\n",
       "      <td>214.000000</td>\n",
       "      <td>8.100000</td>\n",
       "      <td>2015.000000</td>\n",
       "    </tr>\n",
       "  </tbody>\n",
       "</table>\n",
       "</div>"
      ],
      "text/plain": [
       "             budget       revenue      runtime  vote_average  release_year\n",
       "count  1.889000e+03  1.889000e+03  1889.000000   1889.000000   1889.000000\n",
       "mean   5.431083e+07  1.553653e+08   109.658549      6.140762   2007.860773\n",
       "std    4.858721e+07  2.146698e+08    18.017041      0.764763      4.468841\n",
       "min    5.000000e+06  2.033165e+06    63.000000      3.300000   2000.000000\n",
       "25%    2.000000e+07  3.456058e+07    97.000000      5.600000   2004.000000\n",
       "50%    3.800000e+07  8.361541e+07   107.000000      6.100000   2008.000000\n",
       "75%    7.200000e+07  1.782626e+08   120.000000      6.600000   2012.000000\n",
       "max    3.800000e+08  2.781506e+09   214.000000      8.100000   2015.000000"
      ]
     },
     "execution_count": 9,
     "metadata": {},
     "output_type": "execute_result"
    }
   ],
   "source": [
    "data.describe()"
   ]
  },
  {
   "cell_type": "code",
   "execution_count": 335,
   "metadata": {
    "colab": {},
    "colab_type": "code",
    "id": "jNb40DwKVp-H"
   },
   "outputs": [
    {
     "data": {
      "text/html": [
       "<div>\n",
       "<style scoped>\n",
       "    .dataframe tbody tr th:only-of-type {\n",
       "        vertical-align: middle;\n",
       "    }\n",
       "\n",
       "    .dataframe tbody tr th {\n",
       "        vertical-align: top;\n",
       "    }\n",
       "\n",
       "    .dataframe thead th {\n",
       "        text-align: right;\n",
       "    }\n",
       "</style>\n",
       "<table border=\"1\" class=\"dataframe\">\n",
       "  <thead>\n",
       "    <tr style=\"text-align: right;\">\n",
       "      <th></th>\n",
       "      <th>imdb_id</th>\n",
       "      <th>budget</th>\n",
       "      <th>revenue</th>\n",
       "      <th>original_title</th>\n",
       "      <th>cast</th>\n",
       "      <th>director</th>\n",
       "      <th>tagline</th>\n",
       "      <th>overview</th>\n",
       "      <th>runtime</th>\n",
       "      <th>genres</th>\n",
       "      <th>production_companies</th>\n",
       "      <th>release_date</th>\n",
       "      <th>vote_average</th>\n",
       "      <th>release_year</th>\n",
       "      <th>profit</th>\n",
       "      <th>release_month</th>\n",
       "      <th>genres_list</th>\n",
       "      <th>cast_list</th>\n",
       "    </tr>\n",
       "  </thead>\n",
       "  <tbody>\n",
       "    <tr>\n",
       "      <th>0</th>\n",
       "      <td>tt0369610</td>\n",
       "      <td>150000000</td>\n",
       "      <td>1513528810</td>\n",
       "      <td>Jurassic World</td>\n",
       "      <td>Chris Pratt|Bryce Dallas Howard|Irrfan Khan|Vi...</td>\n",
       "      <td>Colin Trevorrow</td>\n",
       "      <td>The park is open.</td>\n",
       "      <td>Twenty-two years after the events of Jurassic ...</td>\n",
       "      <td>124</td>\n",
       "      <td>Action|Adventure|Science Fiction|Thriller</td>\n",
       "      <td>Universal Studios|Amblin Entertainment|Legenda...</td>\n",
       "      <td>2015-06-09</td>\n",
       "      <td>6.5</td>\n",
       "      <td>2015</td>\n",
       "      <td>1363528810</td>\n",
       "      <td>6</td>\n",
       "      <td>[Action, Adventure, Science Fiction, Thriller]</td>\n",
       "      <td>[Bryce Dallas Howard, Chris Pratt, Irrfan Khan...</td>\n",
       "    </tr>\n",
       "    <tr>\n",
       "      <th>1</th>\n",
       "      <td>tt1392190</td>\n",
       "      <td>150000000</td>\n",
       "      <td>378436354</td>\n",
       "      <td>Mad Max: Fury Road</td>\n",
       "      <td>Tom Hardy|Charlize Theron|Hugh Keays-Byrne|Nic...</td>\n",
       "      <td>George Miller</td>\n",
       "      <td>What a Lovely Day.</td>\n",
       "      <td>An apocalyptic story set in the furthest reach...</td>\n",
       "      <td>120</td>\n",
       "      <td>Action|Adventure|Science Fiction|Thriller</td>\n",
       "      <td>Village Roadshow Pictures|Kennedy Miller Produ...</td>\n",
       "      <td>2015-05-13</td>\n",
       "      <td>7.1</td>\n",
       "      <td>2015</td>\n",
       "      <td>228436354</td>\n",
       "      <td>5</td>\n",
       "      <td>[Action, Adventure, Science Fiction, Thriller]</td>\n",
       "      <td>[Charlize Theron, Hugh Keays-Byrne, Josh Helma...</td>\n",
       "    </tr>\n",
       "  </tbody>\n",
       "</table>\n",
       "</div>"
      ],
      "text/plain": [
       "     imdb_id     budget     revenue      original_title  \\\n",
       "0  tt0369610  150000000  1513528810      Jurassic World   \n",
       "1  tt1392190  150000000   378436354  Mad Max: Fury Road   \n",
       "\n",
       "                                                cast         director  \\\n",
       "0  Chris Pratt|Bryce Dallas Howard|Irrfan Khan|Vi...  Colin Trevorrow   \n",
       "1  Tom Hardy|Charlize Theron|Hugh Keays-Byrne|Nic...    George Miller   \n",
       "\n",
       "              tagline                                           overview  \\\n",
       "0   The park is open.  Twenty-two years after the events of Jurassic ...   \n",
       "1  What a Lovely Day.  An apocalyptic story set in the furthest reach...   \n",
       "\n",
       "   runtime                                     genres  \\\n",
       "0      124  Action|Adventure|Science Fiction|Thriller   \n",
       "1      120  Action|Adventure|Science Fiction|Thriller   \n",
       "\n",
       "                                production_companies release_date  \\\n",
       "0  Universal Studios|Amblin Entertainment|Legenda...   2015-06-09   \n",
       "1  Village Roadshow Pictures|Kennedy Miller Produ...   2015-05-13   \n",
       "\n",
       "   vote_average  release_year      profit  release_month  \\\n",
       "0           6.5          2015  1363528810              6   \n",
       "1           7.1          2015   228436354              5   \n",
       "\n",
       "                                      genres_list  \\\n",
       "0  [Action, Adventure, Science Fiction, Thriller]   \n",
       "1  [Action, Adventure, Science Fiction, Thriller]   \n",
       "\n",
       "                                           cast_list  \n",
       "0  [Bryce Dallas Howard, Chris Pratt, Irrfan Khan...  \n",
       "1  [Charlize Theron, Hugh Keays-Byrne, Josh Helma...  "
      ]
     },
     "execution_count": 335,
     "metadata": {},
     "output_type": "execute_result"
    }
   ],
   "source": [
    "answers = {} # создадим словарь для ответов\n",
    "\n",
    "# тут другие ваши предобработки колонок например:\n",
    "data['profit'] = data['revenue']-data['budget']\n",
    "data['release_month'] = pd.DatetimeIndex(data['release_date']).month\n",
    "\n",
    "# the function converts separated string to list\n",
    "def devide_column(str):\n",
    "    return str.split(sep='|')\n",
    "\n",
    "# the function counts unique values of the list\n",
    "def list_elemnts_count(lst):\n",
    "    c = Counter()\n",
    "    for x in lst:\n",
    "        if x == '':\n",
    "            continue\n",
    "        c[x] += 1\n",
    "\n",
    "    return c\n",
    "\n",
    "# the function makes flat list from list of lists\n",
    "def numpy_flat(a):\n",
    "    return list(np.array(a).flat)\n",
    "\n",
    "# the function recieves source data frame, column name contains separated string and separator\n",
    "# and returns a new data frame, contains column of spletted values and its count\n",
    "def column_splitter(src_df, column_of_list, split_str):\n",
    "    # create a new data frame contains all data from src_df column_of_list\n",
    "    tmp_df = src_df[column_of_list].str.split(split_str, expand=True)\n",
    "    # create a new data frame based on flat list of column_of_list\n",
    "    tmp_df2 = pd.DataFrame(numpy_flat(tmp_df.values.tolist()), columns = [column_of_list])\n",
    "    # change tmp_df2 with genres and count of movies columns\n",
    "    tmp_df2 = tmp_df2[column_of_list].value_counts().reset_index()\n",
    "    tmp_df2.rename(columns={'index':column_of_list,column_of_list:'count'}, inplace=True)\n",
    "    \n",
    "    return tmp_df2\n",
    "\n",
    "#the time given in the dataset is in string format.\n",
    "#So we need to change this in datetime format\n",
    "data['release_date'] = data['release_date'].astype('datetime64[ns]')"
   ]
  },
  {
   "cell_type": "markdown",
   "metadata": {
    "colab_type": "text",
    "id": "DTIt7ezGVp-G"
   },
   "source": [
    "# Предобработка"
   ]
  },
  {
   "cell_type": "markdown",
   "metadata": {
    "colab_type": "text",
    "id": "Nd-G5gX6Vp-M"
   },
   "source": [
    "Использовать варианты ответов в коде решения запрещено.    \n",
    "Вы думаете и в жизни у вас будут варианты ответов?)"
   ]
  },
  {
   "cell_type": "markdown",
   "metadata": {
    "colab_type": "text",
    "id": "YxZaH-nPVp-L"
   },
   "source": [
    "# 1. У какого фильма из списка самый большой бюджет?"
   ]
  },
  {
   "cell_type": "code",
   "execution_count": 12,
   "metadata": {
    "colab": {},
    "colab_type": "code",
    "id": "dZwb3m28Vp-S"
   },
   "outputs": [
    {
     "data": {
      "text/html": [
       "<div>\n",
       "<style scoped>\n",
       "    .dataframe tbody tr th:only-of-type {\n",
       "        vertical-align: middle;\n",
       "    }\n",
       "\n",
       "    .dataframe tbody tr th {\n",
       "        vertical-align: top;\n",
       "    }\n",
       "\n",
       "    .dataframe thead th {\n",
       "        text-align: right;\n",
       "    }\n",
       "</style>\n",
       "<table border=\"1\" class=\"dataframe\">\n",
       "  <thead>\n",
       "    <tr style=\"text-align: right;\">\n",
       "      <th></th>\n",
       "      <th>original_title</th>\n",
       "      <th>imdb_id</th>\n",
       "    </tr>\n",
       "  </thead>\n",
       "  <tbody>\n",
       "    <tr>\n",
       "      <th>723</th>\n",
       "      <td>Pirates of the Caribbean: On Stranger Tides</td>\n",
       "      <td>tt1298650</td>\n",
       "    </tr>\n",
       "  </tbody>\n",
       "</table>\n",
       "</div>"
      ],
      "text/plain": [
       "                                  original_title    imdb_id\n",
       "723  Pirates of the Caribbean: On Stranger Tides  tt1298650"
      ]
     },
     "execution_count": 12,
     "metadata": {},
     "output_type": "execute_result"
    }
   ],
   "source": [
    "# тут пишем ваш код для решения данного вопроса:\n",
    "data[data['budget'] == data['budget'].max()][['original_title','imdb_id']]"
   ]
  },
  {
   "cell_type": "code",
   "execution_count": 13,
   "metadata": {
    "colab": {},
    "colab_type": "code",
    "id": "uVnXAY5RVp-O"
   },
   "outputs": [],
   "source": [
    "# в словарь вставляем номер вопроса и ваш ответ на него\n",
    "# Пример: \n",
    "answers['1'] = '2. Spider-Man 3 (tt0413300)'\n",
    "# запишите свой вариант ответа\n",
    "answers['1'] = 'Pirates of the Caribbean: On Stranger Tides (tt1298650)'\n",
    "# если ответили верно, можете добавить комментарий со значком \"+\""
   ]
  },
  {
   "cell_type": "code",
   "execution_count": 10,
   "metadata": {
    "colab": {},
    "colab_type": "code",
    "id": "OGaoQI7rVp-X"
   },
   "outputs": [],
   "source": [
    "# можно добавлять разные варианты решения"
   ]
  },
  {
   "cell_type": "markdown",
   "metadata": {
    "colab_type": "text",
    "id": "K7L3nbRXVp-X"
   },
   "source": [
    "ВАРИАНТ 2"
   ]
  },
  {
   "cell_type": "code",
   "execution_count": 8,
   "metadata": {
    "colab": {},
    "colab_type": "code",
    "id": "vHAoEXNTVp-d"
   },
   "outputs": [],
   "source": [
    "# думаю логику работы с этим словарем вы уже поняли, \n",
    "# по этому не буду больше его дублировать\n",
    "answers['2'] = 'Gods and Generals (tt0279111)'"
   ]
  },
  {
   "cell_type": "markdown",
   "metadata": {
    "colab_type": "text",
    "id": "FNRbbI3vVp-c"
   },
   "source": [
    "# 2. Какой из фильмов самый длительный (в минутах)?"
   ]
  },
  {
   "cell_type": "code",
   "execution_count": 14,
   "metadata": {
    "colab": {},
    "colab_type": "code",
    "id": "ot-VX2XrVp-g"
   },
   "outputs": [
    {
     "data": {
      "text/html": [
       "<div>\n",
       "<style scoped>\n",
       "    .dataframe tbody tr th:only-of-type {\n",
       "        vertical-align: middle;\n",
       "    }\n",
       "\n",
       "    .dataframe tbody tr th {\n",
       "        vertical-align: top;\n",
       "    }\n",
       "\n",
       "    .dataframe thead th {\n",
       "        text-align: right;\n",
       "    }\n",
       "</style>\n",
       "<table border=\"1\" class=\"dataframe\">\n",
       "  <thead>\n",
       "    <tr style=\"text-align: right;\">\n",
       "      <th></th>\n",
       "      <th>original_title</th>\n",
       "      <th>imdb_id</th>\n",
       "    </tr>\n",
       "  </thead>\n",
       "  <tbody>\n",
       "    <tr>\n",
       "      <th>1157</th>\n",
       "      <td>Gods and Generals</td>\n",
       "      <td>tt0279111</td>\n",
       "    </tr>\n",
       "  </tbody>\n",
       "</table>\n",
       "</div>"
      ],
      "text/plain": [
       "         original_title    imdb_id\n",
       "1157  Gods and Generals  tt0279111"
      ]
     },
     "execution_count": 14,
     "metadata": {},
     "output_type": "execute_result"
    }
   ],
   "source": [
    "data[data['runtime'] == data['runtime'].max()][['original_title','imdb_id']]"
   ]
  },
  {
   "cell_type": "markdown",
   "metadata": {
    "colab_type": "text",
    "id": "bapLlpW8Vp-k"
   },
   "source": [
    "# 3. Какой из фильмов самый короткий (в минутах)?\n",
    "\n",
    "\n",
    "\n"
   ]
  },
  {
   "cell_type": "code",
   "execution_count": 15,
   "metadata": {
    "colab": {},
    "colab_type": "code",
    "id": "YBxaSHuAVp-l"
   },
   "outputs": [
    {
     "data": {
      "text/html": [
       "<div>\n",
       "<style scoped>\n",
       "    .dataframe tbody tr th:only-of-type {\n",
       "        vertical-align: middle;\n",
       "    }\n",
       "\n",
       "    .dataframe tbody tr th {\n",
       "        vertical-align: top;\n",
       "    }\n",
       "\n",
       "    .dataframe thead th {\n",
       "        text-align: right;\n",
       "    }\n",
       "</style>\n",
       "<table border=\"1\" class=\"dataframe\">\n",
       "  <thead>\n",
       "    <tr style=\"text-align: right;\">\n",
       "      <th></th>\n",
       "      <th>original_title</th>\n",
       "      <th>imdb_id</th>\n",
       "    </tr>\n",
       "  </thead>\n",
       "  <tbody>\n",
       "    <tr>\n",
       "      <th>768</th>\n",
       "      <td>Winnie the Pooh</td>\n",
       "      <td>tt1449283</td>\n",
       "    </tr>\n",
       "  </tbody>\n",
       "</table>\n",
       "</div>"
      ],
      "text/plain": [
       "      original_title    imdb_id\n",
       "768  Winnie the Pooh  tt1449283"
      ]
     },
     "execution_count": 15,
     "metadata": {},
     "output_type": "execute_result"
    }
   ],
   "source": [
    "answers['3'] = 'Winnie the Pooh (tt1449283)'\n",
    "data[data['runtime'] == data['runtime'].min()][['original_title','imdb_id']]"
   ]
  },
  {
   "cell_type": "markdown",
   "metadata": {
    "colab_type": "text",
    "id": "TfQbxbfNVp-p"
   },
   "source": [
    "# 4. Какова средняя длительность фильмов?\n"
   ]
  },
  {
   "cell_type": "code",
   "execution_count": 16,
   "metadata": {},
   "outputs": [],
   "source": [
    "answers['4'] = 110"
   ]
  },
  {
   "cell_type": "code",
   "execution_count": 17,
   "metadata": {
    "colab": {},
    "colab_type": "code",
    "id": "5K6dKZYVVp-q"
   },
   "outputs": [
    {
     "data": {
      "text/plain": [
       "109.6585494970884"
      ]
     },
     "execution_count": 17,
     "metadata": {},
     "output_type": "execute_result"
    }
   ],
   "source": [
    "data['runtime'].mean()"
   ]
  },
  {
   "cell_type": "markdown",
   "metadata": {
    "colab_type": "text",
    "id": "r5TvbnT_Vp-u"
   },
   "source": [
    "# 5. Каково медианное значение длительности фильмов? "
   ]
  },
  {
   "cell_type": "code",
   "execution_count": 18,
   "metadata": {
    "colab": {},
    "colab_type": "code",
    "id": "iBROplKnVp-v"
   },
   "outputs": [],
   "source": [
    "answers['5'] = 107"
   ]
  },
  {
   "cell_type": "code",
   "execution_count": 19,
   "metadata": {},
   "outputs": [
    {
     "data": {
      "text/plain": [
       "107.0"
      ]
     },
     "execution_count": 19,
     "metadata": {},
     "output_type": "execute_result"
    }
   ],
   "source": [
    "data['runtime'].median()"
   ]
  },
  {
   "cell_type": "markdown",
   "metadata": {
    "colab_type": "text",
    "id": "39P-deDSVp-y"
   },
   "source": [
    "# 6. Какой самый прибыльный фильм?\n",
    "#### Внимание! Здесь и далее под «прибылью» или «убытками» понимается разность между сборами и бюджетом фильма. (прибыль = сборы - бюджет) в нашем датасете это будет (profit = revenue - budget) "
   ]
  },
  {
   "cell_type": "code",
   "execution_count": 20,
   "metadata": {
    "colab": {},
    "colab_type": "code",
    "id": "UYZh4T9WVp-y"
   },
   "outputs": [
    {
     "data": {
      "text/html": [
       "<div>\n",
       "<style scoped>\n",
       "    .dataframe tbody tr th:only-of-type {\n",
       "        vertical-align: middle;\n",
       "    }\n",
       "\n",
       "    .dataframe tbody tr th {\n",
       "        vertical-align: top;\n",
       "    }\n",
       "\n",
       "    .dataframe thead th {\n",
       "        text-align: right;\n",
       "    }\n",
       "</style>\n",
       "<table border=\"1\" class=\"dataframe\">\n",
       "  <thead>\n",
       "    <tr style=\"text-align: right;\">\n",
       "      <th></th>\n",
       "      <th>original_title</th>\n",
       "      <th>imdb_id</th>\n",
       "    </tr>\n",
       "  </thead>\n",
       "  <tbody>\n",
       "    <tr>\n",
       "      <th>239</th>\n",
       "      <td>Avatar</td>\n",
       "      <td>tt0499549</td>\n",
       "    </tr>\n",
       "  </tbody>\n",
       "</table>\n",
       "</div>"
      ],
      "text/plain": [
       "    original_title    imdb_id\n",
       "239         Avatar  tt0499549"
      ]
     },
     "execution_count": 20,
     "metadata": {},
     "output_type": "execute_result"
    }
   ],
   "source": [
    "# лучше код получения столбца profit вынести в Предобработку что в начале\n",
    "answers['6'] = 'Avatar (tt0499549)'\n",
    "data[data['profit'] == data['profit'].max()][['original_title','imdb_id']]"
   ]
  },
  {
   "cell_type": "markdown",
   "metadata": {
    "colab_type": "text",
    "id": "M99JmIX4Vp-2"
   },
   "source": [
    "# 7. Какой фильм самый убыточный? "
   ]
  },
  {
   "cell_type": "code",
   "execution_count": 21,
   "metadata": {
    "colab": {},
    "colab_type": "code",
    "id": "w-D2m4XPVp-3"
   },
   "outputs": [
    {
     "data": {
      "text/html": [
       "<div>\n",
       "<style scoped>\n",
       "    .dataframe tbody tr th:only-of-type {\n",
       "        vertical-align: middle;\n",
       "    }\n",
       "\n",
       "    .dataframe tbody tr th {\n",
       "        vertical-align: top;\n",
       "    }\n",
       "\n",
       "    .dataframe thead th {\n",
       "        text-align: right;\n",
       "    }\n",
       "</style>\n",
       "<table border=\"1\" class=\"dataframe\">\n",
       "  <thead>\n",
       "    <tr style=\"text-align: right;\">\n",
       "      <th></th>\n",
       "      <th>original_title</th>\n",
       "      <th>imdb_id</th>\n",
       "    </tr>\n",
       "  </thead>\n",
       "  <tbody>\n",
       "    <tr>\n",
       "      <th>1245</th>\n",
       "      <td>The Lone Ranger</td>\n",
       "      <td>tt1210819</td>\n",
       "    </tr>\n",
       "  </tbody>\n",
       "</table>\n",
       "</div>"
      ],
      "text/plain": [
       "       original_title    imdb_id\n",
       "1245  The Lone Ranger  tt1210819"
      ]
     },
     "execution_count": 21,
     "metadata": {},
     "output_type": "execute_result"
    }
   ],
   "source": [
    "answers['7'] = 'The Lone Ranger (tt1210819)'\n",
    "data[data['profit'] == data['profit'].min()][['original_title','imdb_id']]"
   ]
  },
  {
   "cell_type": "markdown",
   "metadata": {
    "colab_type": "text",
    "id": "wEOM5ERVVp-6"
   },
   "source": [
    "# 8. У скольких фильмов из датасета объем сборов оказался выше бюджета?"
   ]
  },
  {
   "cell_type": "code",
   "execution_count": 22,
   "metadata": {
    "colab": {},
    "colab_type": "code",
    "id": "y00_7HD6Vp-7"
   },
   "outputs": [
    {
     "data": {
      "text/plain": [
       "1478"
      ]
     },
     "execution_count": 22,
     "metadata": {},
     "output_type": "execute_result"
    }
   ],
   "source": [
    "answers['8'] = 1478\n",
    "len(data[data['profit'] > 0])"
   ]
  },
  {
   "cell_type": "markdown",
   "metadata": {
    "colab_type": "text",
    "id": "xhpspA9KVp_A"
   },
   "source": [
    "# 9. Какой фильм оказался самым кассовым в 2008 году?"
   ]
  },
  {
   "cell_type": "code",
   "execution_count": 23,
   "metadata": {
    "colab": {},
    "colab_type": "code",
    "id": "MoUyQr9RVp_B"
   },
   "outputs": [
    {
     "data": {
      "text/html": [
       "<div>\n",
       "<style scoped>\n",
       "    .dataframe tbody tr th:only-of-type {\n",
       "        vertical-align: middle;\n",
       "    }\n",
       "\n",
       "    .dataframe tbody tr th {\n",
       "        vertical-align: top;\n",
       "    }\n",
       "\n",
       "    .dataframe thead th {\n",
       "        text-align: right;\n",
       "    }\n",
       "</style>\n",
       "<table border=\"1\" class=\"dataframe\">\n",
       "  <thead>\n",
       "    <tr style=\"text-align: right;\">\n",
       "      <th></th>\n",
       "      <th>original_title</th>\n",
       "      <th>imdb_id</th>\n",
       "      <th>profit</th>\n",
       "    </tr>\n",
       "  </thead>\n",
       "  <tbody>\n",
       "    <tr>\n",
       "      <th>599</th>\n",
       "      <td>The Dark Knight</td>\n",
       "      <td>tt0468569</td>\n",
       "      <td>816921825</td>\n",
       "    </tr>\n",
       "  </tbody>\n",
       "</table>\n",
       "</div>"
      ],
      "text/plain": [
       "      original_title    imdb_id     profit\n",
       "599  The Dark Knight  tt0468569  816921825"
      ]
     },
     "execution_count": 23,
     "metadata": {},
     "output_type": "execute_result"
    }
   ],
   "source": [
    "answers['9'] = 'The Dark Knight (tt0468569)'\n",
    "period_filter = data['release_year'] == 2008\n",
    "profit_max = data[period_filter]['profit'].max()\n",
    "data[(period_filter)&(data['profit'] == profit_max)][['original_title','imdb_id','profit']]"
   ]
  },
  {
   "cell_type": "markdown",
   "metadata": {
    "colab_type": "text",
    "id": "Zi4hDKidVp_F"
   },
   "source": [
    "# 10. Самый убыточный фильм за период с 2012 по 2014 г. (включительно)?\n"
   ]
  },
  {
   "cell_type": "code",
   "execution_count": 24,
   "metadata": {
    "colab": {},
    "colab_type": "code",
    "id": "XqyRmufJVp_F"
   },
   "outputs": [
    {
     "data": {
      "text/html": [
       "<div>\n",
       "<style scoped>\n",
       "    .dataframe tbody tr th:only-of-type {\n",
       "        vertical-align: middle;\n",
       "    }\n",
       "\n",
       "    .dataframe tbody tr th {\n",
       "        vertical-align: top;\n",
       "    }\n",
       "\n",
       "    .dataframe thead th {\n",
       "        text-align: right;\n",
       "    }\n",
       "</style>\n",
       "<table border=\"1\" class=\"dataframe\">\n",
       "  <thead>\n",
       "    <tr style=\"text-align: right;\">\n",
       "      <th></th>\n",
       "      <th>original_title</th>\n",
       "      <th>imdb_id</th>\n",
       "      <th>profit</th>\n",
       "    </tr>\n",
       "  </thead>\n",
       "  <tbody>\n",
       "    <tr>\n",
       "      <th>1245</th>\n",
       "      <td>The Lone Ranger</td>\n",
       "      <td>tt1210819</td>\n",
       "      <td>-165710090</td>\n",
       "    </tr>\n",
       "  </tbody>\n",
       "</table>\n",
       "</div>"
      ],
      "text/plain": [
       "       original_title    imdb_id     profit\n",
       "1245  The Lone Ranger  tt1210819 -165710090"
      ]
     },
     "execution_count": 24,
     "metadata": {},
     "output_type": "execute_result"
    }
   ],
   "source": [
    "answers['10'] = 'The Lone Ranger (tt1210819)'\n",
    "period_filter = (2012<=data['release_year'])&(data['release_year']<=2014)\n",
    "profit_min = data[period_filter]['profit'].min()\n",
    "data[(period_filter)&(data['profit'] == profit_min)][['original_title','imdb_id','profit']]"
   ]
  },
  {
   "cell_type": "markdown",
   "metadata": {
    "colab_type": "text",
    "id": "EA7Sa9dkVp_I"
   },
   "source": [
    "# 11. Какого жанра фильмов больше всего?"
   ]
  },
  {
   "cell_type": "code",
   "execution_count": 245,
   "metadata": {
    "colab": {},
    "colab_type": "code",
    "id": "zsJAwJ8QVp_J"
   },
   "outputs": [
    {
     "data": {
      "text/plain": [
       "[('Drama', 782),\n",
       " ('Comedy', 683),\n",
       " ('Thriller', 596),\n",
       " ('Action', 582),\n",
       " ('Adventure', 415),\n",
       " ('Crime', 315),\n",
       " ('Romance', 308),\n",
       " ('Family', 260),\n",
       " ('Science Fiction', 248),\n",
       " ('Fantasy', 222),\n",
       " ('Horror', 176),\n",
       " ('Mystery', 168),\n",
       " ('Animation', 139),\n",
       " ('Music', 64),\n",
       " ('History', 62),\n",
       " ('War', 58),\n",
       " ('Western', 19),\n",
       " ('Documentary', 8),\n",
       " ('Foreign', 2)]"
      ]
     },
     "execution_count": 245,
     "metadata": {},
     "output_type": "execute_result"
    }
   ],
   "source": [
    "# эту задачу тоже можно решать разными подходами, попробуй реализовать разные варианты\n",
    "# если будешь добавлять функцию - выноси ее в предобработку что в начале\n",
    "\n",
    "# add column contains list of values from genres_counts\n",
    "data['genres_list'] = data['genres'].apply(devide_column)\n",
    "# create a new data frame contains all data from genres_list column\n",
    "genres_df = data['genres_list'].apply(pd.Series).fillna('')\n",
    "# create flat list of genres from genres data frame\n",
    "genres_list = numpy_flat(genres_df.values.tolist())\n",
    "# count all elements in genres_list\n",
    "genres_counts = list_elemnts_count(genres_list)\n",
    "# sort genres by genre count\n",
    "sort_genres = sorted(genres_counts.items(), key=lambda x: x[1], reverse=True)\n",
    "answers['11'] = 'Drama'\n",
    "sort_genres\n",
    "#data['genres'].value_counts().sort_values(ascending=False).head(1)"
   ]
  },
  {
   "cell_type": "markdown",
   "metadata": {
    "colab_type": "text",
    "id": "Ax6g2C8SVp_M"
   },
   "source": [
    "ВАРИАНТ 2"
   ]
  },
  {
   "cell_type": "code",
   "execution_count": 30,
   "metadata": {
    "colab": {},
    "colab_type": "code",
    "id": "otO3SbrSVp_N"
   },
   "outputs": [
    {
     "data": {
      "text/html": [
       "<div>\n",
       "<style scoped>\n",
       "    .dataframe tbody tr th:only-of-type {\n",
       "        vertical-align: middle;\n",
       "    }\n",
       "\n",
       "    .dataframe tbody tr th {\n",
       "        vertical-align: top;\n",
       "    }\n",
       "\n",
       "    .dataframe thead th {\n",
       "        text-align: right;\n",
       "    }\n",
       "</style>\n",
       "<table border=\"1\" class=\"dataframe\">\n",
       "  <thead>\n",
       "    <tr style=\"text-align: right;\">\n",
       "      <th></th>\n",
       "      <th>genres</th>\n",
       "      <th>count</th>\n",
       "    </tr>\n",
       "  </thead>\n",
       "  <tbody>\n",
       "    <tr>\n",
       "      <th>0</th>\n",
       "      <td>Drama</td>\n",
       "      <td>782</td>\n",
       "    </tr>\n",
       "    <tr>\n",
       "      <th>1</th>\n",
       "      <td>Comedy</td>\n",
       "      <td>683</td>\n",
       "    </tr>\n",
       "    <tr>\n",
       "      <th>2</th>\n",
       "      <td>Thriller</td>\n",
       "      <td>596</td>\n",
       "    </tr>\n",
       "  </tbody>\n",
       "</table>\n",
       "</div>"
      ],
      "text/plain": [
       "     genres  count\n",
       "0     Drama    782\n",
       "1    Comedy    683\n",
       "2  Thriller    596"
      ]
     },
     "metadata": {},
     "output_type": "display_data"
    }
   ],
   "source": [
    "# create a new data frame contains separated genres\n",
    "genres_df = column_splitter(data, 'genres', '|')\n",
    "\n",
    "display(genres_df.head(3))\n",
    "answers['11'] = 'Drama'"
   ]
  },
  {
   "cell_type": "markdown",
   "metadata": {
    "colab_type": "text",
    "id": "T9_bPWpkVp_Q"
   },
   "source": [
    "# 12. Фильмы какого жанра чаще всего становятся прибыльными? "
   ]
  },
  {
   "cell_type": "code",
   "execution_count": 32,
   "metadata": {
    "colab": {},
    "colab_type": "code",
    "id": "Tmt8MaK1Vp_R"
   },
   "outputs": [
    {
     "data": {
      "text/html": [
       "<div>\n",
       "<style scoped>\n",
       "    .dataframe tbody tr th:only-of-type {\n",
       "        vertical-align: middle;\n",
       "    }\n",
       "\n",
       "    .dataframe tbody tr th {\n",
       "        vertical-align: top;\n",
       "    }\n",
       "\n",
       "    .dataframe thead th {\n",
       "        text-align: right;\n",
       "    }\n",
       "</style>\n",
       "<table border=\"1\" class=\"dataframe\">\n",
       "  <thead>\n",
       "    <tr style=\"text-align: right;\">\n",
       "      <th></th>\n",
       "      <th>genres</th>\n",
       "      <th>count</th>\n",
       "      <th>profitable</th>\n",
       "    </tr>\n",
       "  </thead>\n",
       "  <tbody>\n",
       "    <tr>\n",
       "      <th>0</th>\n",
       "      <td>Drama</td>\n",
       "      <td>782</td>\n",
       "      <td>560.0</td>\n",
       "    </tr>\n",
       "  </tbody>\n",
       "</table>\n",
       "</div>"
      ],
      "text/plain": [
       "  genres  count  profitable\n",
       "0  Drama    782       560.0"
      ]
     },
     "metadata": {},
     "output_type": "display_data"
    }
   ],
   "source": [
    "# prepare profit filter\n",
    "filter_profit = data['profit']>0\n",
    "# create a new data frame contains separated genres\n",
    "genres_df = column_splitter(data, 'genres', '|')\n",
    "# retrieve flat list of genres\n",
    "genres_list = genres_df['genres'].unique()\n",
    "\n",
    "# run on genres and for each genre calculate count of ther profitable movies\n",
    "for genre in genres_list:\n",
    "    # prepare genre filter\n",
    "    filter_genre = data['genres'].str.contains(genre)\n",
    "    # calculate count from data\n",
    "    count = len(data[filter_profit & filter_genre])\n",
    "    # set profitable value\n",
    "    genres_df.loc[genres_df['genres']==genre, 'profitable'] = count\n",
    "    \n",
    "# retrieve max profitable\n",
    "display(genres_df[genres_df['profitable'] == genres_df['profitable'].max()])\n",
    "answers['12'] = 'Drama'"
   ]
  },
  {
   "cell_type": "markdown",
   "metadata": {
    "colab_type": "text",
    "id": "0F23bgsDVp_U"
   },
   "source": [
    "# 13. У какого режиссера самые большие суммарные кассовые сбооры?"
   ]
  },
  {
   "cell_type": "code",
   "execution_count": 33,
   "metadata": {
    "colab": {},
    "colab_type": "code",
    "id": "K6Z3J8ygVp_X"
   },
   "outputs": [
    {
     "data": {
      "text/html": [
       "<div>\n",
       "<style scoped>\n",
       "    .dataframe tbody tr th:only-of-type {\n",
       "        vertical-align: middle;\n",
       "    }\n",
       "\n",
       "    .dataframe tbody tr th {\n",
       "        vertical-align: top;\n",
       "    }\n",
       "\n",
       "    .dataframe thead th {\n",
       "        text-align: right;\n",
       "    }\n",
       "</style>\n",
       "<table border=\"1\" class=\"dataframe\">\n",
       "  <thead>\n",
       "    <tr style=\"text-align: right;\">\n",
       "      <th></th>\n",
       "      <th>sum</th>\n",
       "    </tr>\n",
       "    <tr>\n",
       "      <th>director</th>\n",
       "      <th></th>\n",
       "    </tr>\n",
       "  </thead>\n",
       "  <tbody>\n",
       "    <tr>\n",
       "      <th>Peter Jackson</th>\n",
       "      <td>6490593685</td>\n",
       "    </tr>\n",
       "    <tr>\n",
       "      <th>Christopher Nolan</th>\n",
       "      <td>4167548502</td>\n",
       "    </tr>\n",
       "    <tr>\n",
       "      <th>David Yates</th>\n",
       "      <td>4154295625</td>\n",
       "    </tr>\n",
       "  </tbody>\n",
       "</table>\n",
       "</div>"
      ],
      "text/plain": [
       "                          sum\n",
       "director                     \n",
       "Peter Jackson      6490593685\n",
       "Christopher Nolan  4167548502\n",
       "David Yates        4154295625"
      ]
     },
     "metadata": {},
     "output_type": "display_data"
    }
   ],
   "source": [
    "display(data.groupby('director')['revenue'].agg(['sum']).sort_values('sum', ascending=False).head(3))\n",
    "answers['13'] = 'Peter Jackson'"
   ]
  },
  {
   "cell_type": "markdown",
   "metadata": {
    "colab_type": "text",
    "id": "PsYC9FgRVp_a"
   },
   "source": [
    "# 14. Какой режисер снял больше всего фильмов в стиле Action?"
   ]
  },
  {
   "cell_type": "code",
   "execution_count": 34,
   "metadata": {
    "colab": {},
    "colab_type": "code",
    "id": "wd2M-wHeVp_b"
   },
   "outputs": [
    {
     "data": {
      "text/html": [
       "<div>\n",
       "<style scoped>\n",
       "    .dataframe tbody tr th:only-of-type {\n",
       "        vertical-align: middle;\n",
       "    }\n",
       "\n",
       "    .dataframe tbody tr th {\n",
       "        vertical-align: top;\n",
       "    }\n",
       "\n",
       "    .dataframe thead th {\n",
       "        text-align: right;\n",
       "    }\n",
       "</style>\n",
       "<table border=\"1\" class=\"dataframe\">\n",
       "  <thead>\n",
       "    <tr style=\"text-align: right;\">\n",
       "      <th></th>\n",
       "      <th>director</th>\n",
       "      <th>count</th>\n",
       "    </tr>\n",
       "  </thead>\n",
       "  <tbody>\n",
       "    <tr>\n",
       "      <th>0</th>\n",
       "      <td>Robert Rodriguez</td>\n",
       "      <td>9</td>\n",
       "    </tr>\n",
       "    <tr>\n",
       "      <th>1</th>\n",
       "      <td>Michael Bay</td>\n",
       "      <td>7</td>\n",
       "    </tr>\n",
       "    <tr>\n",
       "      <th>2</th>\n",
       "      <td>Paul W.S. Anderson</td>\n",
       "      <td>7</td>\n",
       "    </tr>\n",
       "  </tbody>\n",
       "</table>\n",
       "</div>"
      ],
      "text/plain": [
       "             director  count\n",
       "0    Robert Rodriguez      9\n",
       "1         Michael Bay      7\n",
       "2  Paul W.S. Anderson      7"
      ]
     },
     "metadata": {},
     "output_type": "display_data"
    }
   ],
   "source": [
    "# create genres filter\n",
    "director_filter = data['genres'].str.contains('Action', regex=False)\n",
    "# create a new data frame contains separated directors\n",
    "director_df = column_splitter(data[director_filter], 'director', '|')\n",
    "\n",
    "display(director_df.head(3))\n",
    "answers['14'] = 'Robert Rodriguez'"
   ]
  },
  {
   "cell_type": "markdown",
   "metadata": {
    "colab_type": "text",
    "id": "PQ0KciD7Vp_f"
   },
   "source": [
    "# 15. Фильмы с каким актером принесли самые высокие кассовые сборы в 2012 году? "
   ]
  },
  {
   "cell_type": "code",
   "execution_count": 35,
   "metadata": {
    "colab": {},
    "colab_type": "code",
    "id": "aga62oeKVp_g"
   },
   "outputs": [
    {
     "data": {
      "text/html": [
       "<div>\n",
       "<style scoped>\n",
       "    .dataframe tbody tr th:only-of-type {\n",
       "        vertical-align: middle;\n",
       "    }\n",
       "\n",
       "    .dataframe tbody tr th {\n",
       "        vertical-align: top;\n",
       "    }\n",
       "\n",
       "    .dataframe thead th {\n",
       "        text-align: right;\n",
       "    }\n",
       "</style>\n",
       "<table border=\"1\" class=\"dataframe\">\n",
       "  <thead>\n",
       "    <tr style=\"text-align: right;\">\n",
       "      <th></th>\n",
       "      <th>cast</th>\n",
       "      <th>count</th>\n",
       "      <th>revenue</th>\n",
       "    </tr>\n",
       "  </thead>\n",
       "  <tbody>\n",
       "    <tr>\n",
       "      <th>4</th>\n",
       "      <td>Chris Hemsworth</td>\n",
       "      <td>4</td>\n",
       "      <td>2.027451e+09</td>\n",
       "    </tr>\n",
       "    <tr>\n",
       "      <th>51</th>\n",
       "      <td>Denis Leary</td>\n",
       "      <td>2</td>\n",
       "      <td>1.629461e+09</td>\n",
       "    </tr>\n",
       "    <tr>\n",
       "      <th>14</th>\n",
       "      <td>Anne Hathaway</td>\n",
       "      <td>2</td>\n",
       "      <td>1.522851e+09</td>\n",
       "    </tr>\n",
       "  </tbody>\n",
       "</table>\n",
       "</div>"
      ],
      "text/plain": [
       "               cast  count       revenue\n",
       "4   Chris Hemsworth      4  2.027451e+09\n",
       "51      Denis Leary      2  1.629461e+09\n",
       "14    Anne Hathaway      2  1.522851e+09"
      ]
     },
     "metadata": {},
     "output_type": "display_data"
    }
   ],
   "source": [
    "# create a period filter\n",
    "period_filter = data['release_year']==2012\n",
    "# create a new data frame contains separated actors\n",
    "actors_df = column_splitter(data[period_filter], 'cast', '|')\n",
    "# retrieve actors list\n",
    "actors_list = actors_df['cast'].unique()\n",
    "\n",
    "# run on actors and for each actor calculate revenue of their movies\n",
    "for actor in actors_list:\n",
    "    # prepare actor filter\n",
    "    filter_actor = data['cast'].str.contains(actor)\n",
    "    # calculate revenue from data\n",
    "    revenue = data[period_filter & filter_actor]['revenue'].sum()\n",
    "    # set revenue value\n",
    "    actors_df.loc[actors_df['cast']==actor, 'revenue'] = revenue\n",
    "\n",
    "display(actors_df.sort_values('revenue', ascending=False).head(3))\n",
    "answers['15'] = 'Chris Hemsworth'"
   ]
  },
  {
   "cell_type": "markdown",
   "metadata": {
    "colab_type": "text",
    "id": "mWHyyL7QVp_j"
   },
   "source": [
    "# 16. Какой актер снялся в большем количестве высокобюджетных фильмов?"
   ]
  },
  {
   "cell_type": "code",
   "execution_count": 43,
   "metadata": {
    "colab": {},
    "colab_type": "code",
    "id": "qQtmHKTFVp_k"
   },
   "outputs": [
    {
     "name": "stdout",
     "output_type": "stream",
     "text": [
      "[('Matt Damon', 18), ('Adam Sandler', 17), ('Angelina Jolie', 16)]\n"
     ]
    }
   ],
   "source": [
    "# retrive high-budget films\n",
    "high_budget_films = data[data['budget']>data['budget'].mean()]\n",
    "# create a new data frame contains separated actors\n",
    "actors_df = column_splitter(high_budget_films, 'cast', '|')\n",
    "# retrieve actors list\n",
    "actors_list = actors_df['cast'].unique()\n",
    "\n",
    "c = Counter()\n",
    "# calculate for each actor how much he casts in high-budget films\n",
    "for actor in actors_list:\n",
    "    count = len(high_budget_films[high_budget_films['cast'].str.contains(actor)])\n",
    "    c[actor] += count\n",
    "    \n",
    "print(c.most_common(3))\n",
    "answers['16'] = 'Matt Damon'"
   ]
  },
  {
   "cell_type": "markdown",
   "metadata": {
    "colab_type": "text",
    "id": "NIh6AaW5Vp_n"
   },
   "source": [
    "# 17. В фильмах какого жанра больше всего снимался Nicolas Cage? "
   ]
  },
  {
   "cell_type": "code",
   "execution_count": 52,
   "metadata": {
    "colab": {},
    "colab_type": "code",
    "id": "H74SJDIBVp_n"
   },
   "outputs": [
    {
     "data": {
      "text/plain": [
       "[('Action', 17), ('Thriller', 15), ('Drama', 12)]"
      ]
     },
     "metadata": {},
     "output_type": "display_data"
    }
   ],
   "source": [
    "# retrieve films with Nicolas Cage\n",
    "nc_df = data[data['cast'].str.contains('Nicolas Cage')]\n",
    "# retrieve genres\n",
    "nc_genres_df = nc_df['genres'].apply(devide_genres).apply(pd.Series).fillna('')\n",
    "# create flat list of genres from genres data frame\n",
    "genres_list = numpy_flat(nc_genres_df.values.tolist())\n",
    "# count all elements in genres_list\n",
    "genres_counts = list_elemnts_count(genres_list)\n",
    "display(genres_counts.most_common(3))\n",
    "answers['17'] = 'Action'"
   ]
  },
  {
   "cell_type": "markdown",
   "metadata": {
    "colab_type": "text",
    "id": "RqOmPRfWVp_q"
   },
   "source": [
    "# 18. Самый убыточный фильм от Paramount Pictures"
   ]
  },
  {
   "cell_type": "code",
   "execution_count": 62,
   "metadata": {
    "colab": {},
    "colab_type": "code",
    "id": "9E_B0Y96Vp_r"
   },
   "outputs": [
    {
     "data": {
      "text/html": [
       "<div>\n",
       "<style scoped>\n",
       "    .dataframe tbody tr th:only-of-type {\n",
       "        vertical-align: middle;\n",
       "    }\n",
       "\n",
       "    .dataframe tbody tr th {\n",
       "        vertical-align: top;\n",
       "    }\n",
       "\n",
       "    .dataframe thead th {\n",
       "        text-align: right;\n",
       "    }\n",
       "</style>\n",
       "<table border=\"1\" class=\"dataframe\">\n",
       "  <thead>\n",
       "    <tr style=\"text-align: right;\">\n",
       "      <th></th>\n",
       "      <th>original_title</th>\n",
       "      <th>imdb_id</th>\n",
       "      <th>profit</th>\n",
       "    </tr>\n",
       "  </thead>\n",
       "  <tbody>\n",
       "    <tr>\n",
       "      <th>925</th>\n",
       "      <td>K-19: The Widowmaker</td>\n",
       "      <td>tt0267626</td>\n",
       "      <td>-64831034</td>\n",
       "    </tr>\n",
       "  </tbody>\n",
       "</table>\n",
       "</div>"
      ],
      "text/plain": [
       "           original_title    imdb_id    profit\n",
       "925  K-19: The Widowmaker  tt0267626 -64831034"
      ]
     },
     "metadata": {},
     "output_type": "display_data"
    }
   ],
   "source": [
    "# retrieve films of Paramount Pictures\n",
    "pp_df = data[data['production_companies'].str.contains('Paramount Pictures')]\n",
    "display(pp_df[pp_df['profit'] == pp_df['profit'].min()][['original_title','imdb_id','profit']])\n",
    "answers['18'] = 'K-19: The Widowmaker (tt0267626)'"
   ]
  },
  {
   "cell_type": "markdown",
   "metadata": {
    "colab_type": "text",
    "id": "vS8Ur6ddVp_u"
   },
   "source": [
    "# 19. Какой год стал самым успешным по суммарным кассовым сборам?"
   ]
  },
  {
   "cell_type": "code",
   "execution_count": 69,
   "metadata": {
    "colab": {},
    "colab_type": "code",
    "id": "Dnbt4GdIVp_v"
   },
   "outputs": [
    {
     "data": {
      "text/html": [
       "<div>\n",
       "<style scoped>\n",
       "    .dataframe tbody tr th:only-of-type {\n",
       "        vertical-align: middle;\n",
       "    }\n",
       "\n",
       "    .dataframe tbody tr th {\n",
       "        vertical-align: top;\n",
       "    }\n",
       "\n",
       "    .dataframe thead th {\n",
       "        text-align: right;\n",
       "    }\n",
       "</style>\n",
       "<table border=\"1\" class=\"dataframe\">\n",
       "  <thead>\n",
       "    <tr style=\"text-align: right;\">\n",
       "      <th></th>\n",
       "      <th>sum</th>\n",
       "    </tr>\n",
       "    <tr>\n",
       "      <th>release_year</th>\n",
       "      <th></th>\n",
       "    </tr>\n",
       "  </thead>\n",
       "  <tbody>\n",
       "    <tr>\n",
       "      <th>2015</th>\n",
       "      <td>25449202382</td>\n",
       "    </tr>\n",
       "    <tr>\n",
       "      <th>2014</th>\n",
       "      <td>23405862953</td>\n",
       "    </tr>\n",
       "    <tr>\n",
       "      <th>2013</th>\n",
       "      <td>23213799791</td>\n",
       "    </tr>\n",
       "  </tbody>\n",
       "</table>\n",
       "</div>"
      ],
      "text/plain": [
       "                      sum\n",
       "release_year             \n",
       "2015          25449202382\n",
       "2014          23405862953\n",
       "2013          23213799791"
      ]
     },
     "metadata": {},
     "output_type": "display_data"
    }
   ],
   "source": [
    "display(data.groupby('release_year')['revenue'].agg(['sum']).sort_values('sum', ascending=False).head(3))\n",
    "answers['19'] = '2015'"
   ]
  },
  {
   "cell_type": "markdown",
   "metadata": {
    "colab_type": "text",
    "id": "JAzJh4QAVp_z"
   },
   "source": [
    "# 20. Какой самый прибыльный год для студии Warner Bros?"
   ]
  },
  {
   "cell_type": "code",
   "execution_count": 70,
   "metadata": {
    "colab": {},
    "colab_type": "code",
    "id": "wgVu02DEVp_0"
   },
   "outputs": [
    {
     "data": {
      "text/html": [
       "<div>\n",
       "<style scoped>\n",
       "    .dataframe tbody tr th:only-of-type {\n",
       "        vertical-align: middle;\n",
       "    }\n",
       "\n",
       "    .dataframe tbody tr th {\n",
       "        vertical-align: top;\n",
       "    }\n",
       "\n",
       "    .dataframe thead th {\n",
       "        text-align: right;\n",
       "    }\n",
       "</style>\n",
       "<table border=\"1\" class=\"dataframe\">\n",
       "  <thead>\n",
       "    <tr style=\"text-align: right;\">\n",
       "      <th></th>\n",
       "      <th>sum</th>\n",
       "    </tr>\n",
       "    <tr>\n",
       "      <th>release_year</th>\n",
       "      <th></th>\n",
       "    </tr>\n",
       "  </thead>\n",
       "  <tbody>\n",
       "    <tr>\n",
       "      <th>2014</th>\n",
       "      <td>3243064519</td>\n",
       "    </tr>\n",
       "    <tr>\n",
       "      <th>2007</th>\n",
       "      <td>3183675217</td>\n",
       "    </tr>\n",
       "    <tr>\n",
       "      <th>2008</th>\n",
       "      <td>3050595031</td>\n",
       "    </tr>\n",
       "  </tbody>\n",
       "</table>\n",
       "</div>"
      ],
      "text/plain": [
       "                     sum\n",
       "release_year            \n",
       "2014          3243064519\n",
       "2007          3183675217\n",
       "2008          3050595031"
      ]
     },
     "metadata": {},
     "output_type": "display_data"
    }
   ],
   "source": [
    "# retrieve films of Warner Bros\n",
    "wb_df = data[data['production_companies'].str.contains('Warner Bros')]\n",
    "display(wb_df.groupby('release_year')['revenue'].agg(['sum']).sort_values('sum', ascending=False).head(3))\n",
    "answers['20'] = '2014'"
   ]
  },
  {
   "cell_type": "markdown",
   "metadata": {
    "colab_type": "text",
    "id": "8Im1S2HRVp_4"
   },
   "source": [
    "# 21. В каком месяце за все годы суммарно вышло больше всего фильмов?"
   ]
  },
  {
   "cell_type": "code",
   "execution_count": 82,
   "metadata": {
    "colab": {},
    "colab_type": "code",
    "id": "lev6TH7gVp_4"
   },
   "outputs": [
    {
     "data": {
      "text/html": [
       "<div>\n",
       "<style scoped>\n",
       "    .dataframe tbody tr th:only-of-type {\n",
       "        vertical-align: middle;\n",
       "    }\n",
       "\n",
       "    .dataframe tbody tr th {\n",
       "        vertical-align: top;\n",
       "    }\n",
       "\n",
       "    .dataframe thead th {\n",
       "        text-align: right;\n",
       "    }\n",
       "</style>\n",
       "<table border=\"1\" class=\"dataframe\">\n",
       "  <thead>\n",
       "    <tr style=\"text-align: right;\">\n",
       "      <th></th>\n",
       "      <th>count</th>\n",
       "    </tr>\n",
       "    <tr>\n",
       "      <th>release_month</th>\n",
       "      <th></th>\n",
       "    </tr>\n",
       "  </thead>\n",
       "  <tbody>\n",
       "    <tr>\n",
       "      <th>9</th>\n",
       "      <td>227</td>\n",
       "    </tr>\n",
       "    <tr>\n",
       "      <th>12</th>\n",
       "      <td>190</td>\n",
       "    </tr>\n",
       "    <tr>\n",
       "      <th>10</th>\n",
       "      <td>186</td>\n",
       "    </tr>\n",
       "  </tbody>\n",
       "</table>\n",
       "</div>"
      ],
      "text/plain": [
       "               count\n",
       "release_month       \n",
       "9                227\n",
       "12               190\n",
       "10               186"
      ]
     },
     "metadata": {},
     "output_type": "display_data"
    }
   ],
   "source": [
    "display(data.groupby('release_month')['release_month'].agg(['count']).sort_values('count', =False).head(3))\n",
    "answers['21'] = 'Сентябрь'"
   ]
  },
  {
   "cell_type": "markdown",
   "metadata": {
    "colab_type": "text",
    "id": "uAJsZ_NeVp_7"
   },
   "source": [
    "# 22. Сколько суммарно вышло фильмов летом? (за июнь, июль, август)"
   ]
  },
  {
   "cell_type": "code",
   "execution_count": 88,
   "metadata": {
    "colab": {},
    "colab_type": "code",
    "id": "Aa-hEREoVp_8"
   },
   "outputs": [
    {
     "data": {
      "text/plain": [
       "450"
      ]
     },
     "metadata": {},
     "output_type": "display_data"
    }
   ],
   "source": [
    "period_query = '6 <= release_month <= 8'\n",
    "display(data.query(period_query)['release_month'].count())\n",
    "answers['22'] = 450"
   ]
  },
  {
   "cell_type": "markdown",
   "metadata": {
    "colab_type": "text",
    "id": "G94ppOY1VqAA"
   },
   "source": [
    "# 23. Для какого режиссера зима – самое продуктивное время года? "
   ]
  },
  {
   "cell_type": "code",
   "execution_count": 95,
   "metadata": {
    "colab": {},
    "colab_type": "code",
    "id": "RhNTsamuVqAB"
   },
   "outputs": [
    {
     "data": {
      "text/plain": [
       "[('Peter Jackson', 7), ('Clint Eastwood', 6), ('Shawn Levy', 4)]"
      ]
     },
     "metadata": {},
     "output_type": "display_data"
    }
   ],
   "source": [
    "# retrieve winter data frame\n",
    "winter_df = data[data['release_month'].isin([1,2,12])]\n",
    "# create a new data frame contains separated directors\n",
    "director_df = column_splitter(data[director_filter], 'director', '|')\n",
    "# retrieve flat list of directors\n",
    "directors_list = director_df['director'].unique()\n",
    "\n",
    "# create counter\n",
    "c = Counter()\n",
    "# run on directors and for each director calculate count of ther movies\n",
    "for d in directors_list:\n",
    "    c[d] += len(winter_df[winter_df['director'].str.contains(d)])\n",
    "\n",
    "display(c.most_common(3))\n",
    "answers['23'] = 'Peter Jackson'"
   ]
  },
  {
   "cell_type": "markdown",
   "metadata": {
    "colab_type": "text",
    "id": "RBo0JVjVVqAF"
   },
   "source": [
    "# 24. Какая студия дает самые длинные названия своим фильмам по количеству символов?"
   ]
  },
  {
   "cell_type": "code",
   "execution_count": 135,
   "metadata": {
    "colab": {},
    "colab_type": "code",
    "id": "QRGS8L0iVqAG"
   },
   "outputs": [
    {
     "data": {
      "text/plain": [
       "[('Four By Two Productions', 83.0),\n",
       " ('Jim Henson Company, The', 59.0),\n",
       " ('Dos Corazones', 47.0)]"
      ]
     },
     "metadata": {},
     "output_type": "display_data"
    }
   ],
   "source": [
    "# create a new data frame contains separated companies\n",
    "company_df = column_splitter(data, 'production_companies', '|')\n",
    "# retrieve flat list of directors\n",
    "companies_list = company_df['production_companies'].unique()\n",
    "\n",
    "# calculate mean of title length for each company\n",
    "c = Counter()\n",
    "\n",
    "for company in companies_list:\n",
    "    tmp_df = data[data['production_companies'].str.contains(company)][['production_companies','original_title']]\n",
    "    length = tmp_df['original_title'].str.len().mean()\n",
    "    c[company] += length\n",
    "    \n",
    "display(c.most_common(3))\n",
    "answers['24'] = 'Four By Two Productions'"
   ]
  },
  {
   "cell_type": "markdown",
   "metadata": {
    "colab_type": "text",
    "id": "9G0hbvR7VqAK"
   },
   "source": [
    "# 25. Описание фильмов какой студии в среднем самые длинные по количеству слов?"
   ]
  },
  {
   "cell_type": "code",
   "execution_count": 137,
   "metadata": {
    "colab": {},
    "colab_type": "code",
    "id": "Ge2GsLNxVqAK"
   },
   "outputs": [
    {
     "data": {
      "text/plain": [
       "[('Midnight Picture Show', 1000.0),\n",
       " ('Room 9 Entertainment', 964.0),\n",
       " ('Brookwell-McNamara Entertainment', 936.0)]"
      ]
     },
     "metadata": {},
     "output_type": "display_data"
    }
   ],
   "source": [
    "c = Counter()\n",
    "\n",
    "for company in companies_list:\n",
    "    tmp_df = data[data['production_companies'].str.contains(company)][['production_companies','overview']]\n",
    "    length = tmp_df['overview'].str.len().mean()\n",
    "    c[company] += length\n",
    "    \n",
    "display(c.most_common(3))\n",
    "answers['25'] = 'Midnight Picture Show'"
   ]
  },
  {
   "cell_type": "markdown",
   "metadata": {
    "colab_type": "text",
    "id": "FJ1AFt90VqAP"
   },
   "source": [
    "# 26. Какие фильмы входят в 1 процент лучших по рейтингу? \n",
    "по vote_average"
   ]
  },
  {
   "cell_type": "code",
   "execution_count": 156,
   "metadata": {
    "colab": {},
    "colab_type": "code",
    "id": "8qmJVq4CVqAQ"
   },
   "outputs": [
    {
     "data": {
      "text/plain": [
       "['12 Years a Slave',\n",
       " 'Big Hero 6',\n",
       " 'Gone Girl',\n",
       " 'Guardians of the Galaxy',\n",
       " 'Her',\n",
       " 'Inception',\n",
       " 'Inside Out',\n",
       " 'Interstellar',\n",
       " 'Memento',\n",
       " 'Room',\n",
       " 'Spotlight',\n",
       " 'The Dark Knight',\n",
       " 'The Fault in Our Stars',\n",
       " 'The Grand Budapest Hotel',\n",
       " 'The Imitation Game',\n",
       " 'The Lord of the Rings: The Return of the King',\n",
       " 'The Pianist',\n",
       " 'The Wolf of Wall Street']"
      ]
     },
     "execution_count": 156,
     "metadata": {},
     "output_type": "execute_result"
    }
   ],
   "source": [
    "#data frame len\n",
    "length_df = data['imdb_id'].count()\n",
    "top_rating_df = data.sort_values(['vote_average'], ascending=False).head(int(length_df/100))\n",
    "top_rating_df.sort_values(['original_title'], ascending=True).original_title.tolist()\n",
    "answers['26'] = 'Inside Out, The Dark Knight, 12 Years a Slave '"
   ]
  },
  {
   "cell_type": "markdown",
   "metadata": {
    "colab_type": "text",
    "id": "MdXsUXbCVqAV"
   },
   "source": [
    "# 27. Какие актеры чаще всего снимаются в одном фильме вместе?\n"
   ]
  },
  {
   "cell_type": "code",
   "execution_count": 242,
   "metadata": {
    "colab": {},
    "colab_type": "code",
    "id": "uCfuTkRbVqAg"
   },
   "outputs": [
    {
     "name": "stdout",
     "output_type": "stream",
     "text": [
      "0 0\n",
      "10 34005\n",
      "20 67910\n",
      "30 101715\n",
      "40 135420\n",
      "50 169025\n",
      "60 202530\n",
      "70 235935\n",
      "80 269240\n",
      "90 302445\n",
      "100 335550\n",
      "110 368555\n",
      "120 401460\n",
      "130 434265\n",
      "140 466970\n",
      "150 499575\n",
      "160 532080\n",
      "170 564485\n",
      "180 596790\n",
      "190 628995\n",
      "200 661100\n",
      "210 693105\n",
      "220 725010\n",
      "230 756815\n",
      "240 788520\n",
      "250 820125\n",
      "260 851630\n",
      "270 883035\n",
      "280 914340\n",
      "290 945545\n",
      "300 976650\n",
      "310 1007655\n",
      "320 1038560\n",
      "330 1069365\n",
      "340 1100070\n",
      "350 1130675\n",
      "360 1161180\n",
      "370 1191585\n",
      "380 1221890\n",
      "390 1252095\n",
      "400 1282200\n",
      "410 1312205\n",
      "420 1342110\n",
      "430 1371915\n",
      "440 1401620\n",
      "450 1431225\n",
      "460 1460730\n",
      "470 1490135\n",
      "480 1519440\n",
      "490 1548645\n",
      "500 1577750\n",
      "510 1606755\n",
      "520 1635660\n",
      "530 1664465\n",
      "540 1693170\n",
      "550 1721775\n",
      "560 1750280\n",
      "570 1778685\n",
      "580 1806990\n",
      "590 1835195\n",
      "600 1863300\n",
      "610 1891305\n",
      "620 1919210\n",
      "630 1947015\n",
      "640 1974720\n",
      "650 2002325\n",
      "660 2029830\n",
      "670 2057235\n",
      "680 2084540\n",
      "690 2111745\n",
      "700 2138850\n",
      "710 2165855\n",
      "720 2192760\n",
      "730 2219565\n",
      "740 2246270\n",
      "750 2272875\n",
      "760 2299380\n",
      "770 2325785\n",
      "780 2352090\n",
      "790 2378295\n",
      "800 2404400\n",
      "810 2430405\n",
      "820 2456310\n",
      "830 2482115\n",
      "840 2507820\n",
      "850 2533425\n",
      "860 2558930\n",
      "870 2584335\n",
      "880 2609640\n",
      "890 2634845\n",
      "900 2659950\n",
      "910 2684955\n",
      "920 2709860\n",
      "930 2734665\n",
      "940 2759370\n",
      "950 2783975\n",
      "960 2808480\n",
      "970 2832885\n",
      "980 2857190\n",
      "990 2881395\n",
      "1000 2905500\n",
      "1010 2929505\n",
      "1020 2953410\n",
      "1030 2977215\n",
      "1040 3000920\n",
      "1050 3024525\n",
      "1060 3048030\n",
      "1070 3071435\n",
      "1080 3094740\n",
      "1090 3117945\n",
      "1100 3141050\n",
      "1110 3164055\n",
      "1120 3186960\n",
      "1130 3209765\n",
      "1140 3232470\n",
      "1150 3255075\n",
      "1160 3277580\n",
      "1170 3299985\n",
      "1180 3322290\n",
      "1190 3344495\n",
      "1200 3366600\n",
      "1210 3388605\n",
      "1220 3410510\n",
      "1230 3432315\n",
      "1240 3454020\n",
      "1250 3475625\n",
      "1260 3497130\n",
      "1270 3518535\n",
      "1280 3539840\n",
      "1290 3561045\n",
      "1300 3582150\n",
      "1310 3603155\n",
      "1320 3624060\n",
      "1330 3644865\n",
      "1340 3665570\n",
      "1350 3686175\n",
      "1360 3706680\n",
      "1370 3727085\n",
      "1380 3747390\n",
      "1390 3767595\n",
      "1400 3787700\n",
      "1410 3807705\n",
      "1420 3827610\n",
      "1430 3847415\n",
      "1440 3867120\n",
      "1450 3886725\n",
      "1460 3906230\n",
      "1470 3925635\n",
      "1480 3944940\n",
      "1490 3964145\n",
      "1500 3983250\n",
      "1510 4002255\n",
      "1520 4021160\n",
      "1530 4039965\n",
      "1540 4058670\n",
      "1550 4077275\n",
      "1560 4095780\n",
      "1570 4114185\n",
      "1580 4132490\n",
      "1590 4150695\n",
      "1600 4168800\n",
      "1610 4186805\n",
      "1620 4204710\n",
      "1630 4222515\n",
      "1640 4240220\n",
      "1650 4257825\n",
      "1660 4275330\n",
      "1670 4292735\n",
      "1680 4310040\n",
      "1690 4327245\n",
      "1700 4344350\n",
      "1710 4361355\n",
      "1720 4378260\n",
      "1730 4395065\n",
      "1740 4411770\n",
      "1750 4428375\n",
      "1760 4444880\n",
      "1770 4461285\n",
      "1780 4477590\n",
      "1790 4493795\n",
      "1800 4509900\n",
      "1810 4525905\n",
      "1820 4541810\n",
      "1830 4557615\n",
      "1840 4573320\n",
      "1850 4588925\n",
      "1860 4604430\n",
      "1870 4619835\n",
      "1880 4635140\n",
      "1890 4650345\n",
      "1900 4665450\n",
      "1910 4680455\n",
      "1920 4695360\n",
      "1930 4710165\n",
      "1940 4724870\n",
      "1950 4739475\n",
      "1960 4753980\n",
      "1970 4768385\n",
      "1980 4782690\n",
      "1990 4796895\n",
      "2000 4811000\n",
      "2010 4825005\n",
      "2020 4838910\n",
      "2030 4852715\n",
      "2040 4866420\n",
      "2050 4880025\n",
      "2060 4893530\n",
      "2070 4906935\n",
      "2080 4920240\n",
      "2090 4933445\n",
      "2100 4946550\n",
      "2110 4959555\n",
      "2120 4972460\n",
      "2130 4985265\n",
      "2140 4997970\n",
      "2150 5010575\n",
      "2160 5023080\n",
      "2170 5035485\n",
      "2180 5047790\n",
      "2190 5059995\n",
      "2200 5072100\n",
      "2210 5084105\n",
      "2220 5096010\n",
      "2230 5107815\n",
      "2240 5119520\n",
      "2250 5131125\n",
      "2260 5142630\n",
      "2270 5154035\n",
      "2280 5165340\n",
      "2290 5176545\n",
      "2300 5187650\n",
      "2310 5198655\n",
      "2320 5209560\n",
      "2330 5220365\n",
      "2340 5231070\n",
      "2350 5241675\n",
      "2360 5252180\n",
      "2370 5262585\n",
      "2380 5272890\n",
      "2390 5283095\n",
      "2400 5293200\n",
      "2410 5303205\n",
      "2420 5313110\n",
      "2430 5322915\n",
      "2440 5332620\n",
      "2450 5342225\n",
      "2460 5351730\n",
      "2470 5361135\n",
      "2480 5370440\n",
      "2490 5379645\n",
      "2500 5388750\n",
      "2510 5397755\n",
      "2520 5406660\n",
      "2530 5415465\n",
      "2540 5424170\n",
      "2550 5432775\n",
      "2560 5441280\n",
      "2570 5449685\n",
      "2580 5457990\n",
      "2590 5466195\n",
      "2600 5474300\n",
      "2610 5482305\n",
      "2620 5490210\n",
      "2630 5498015\n",
      "2640 5505720\n",
      "2650 5513325\n",
      "2660 5520830\n",
      "2670 5528235\n",
      "2680 5535540\n",
      "2690 5542745\n",
      "2700 5549850\n",
      "2710 5556855\n",
      "2720 5563760\n",
      "2730 5570565\n",
      "2740 5577270\n",
      "2750 5583875\n",
      "2760 5590380\n",
      "2770 5596785\n",
      "2780 5603090\n",
      "2790 5609295\n",
      "2800 5615400\n",
      "2810 5621405\n",
      "2820 5627310\n",
      "2830 5633115\n",
      "2840 5638820\n",
      "2850 5644425\n",
      "2860 5649930\n",
      "2870 5655335\n",
      "2880 5660640\n",
      "2890 5665845\n",
      "2900 5670950\n",
      "2910 5675955\n",
      "2920 5680860\n",
      "2930 5685665\n",
      "2940 5690370\n",
      "2950 5694975\n",
      "2960 5699480\n",
      "2970 5703885\n",
      "2980 5708190\n",
      "2990 5712395\n",
      "3000 5716500\n",
      "3010 5720505\n",
      "3020 5724410\n",
      "3030 5728215\n",
      "3040 5731920\n",
      "3050 5735525\n",
      "3060 5739030\n",
      "3070 5742435\n",
      "3080 5745740\n",
      "3090 5748945\n",
      "3100 5752050\n",
      "3110 5755055\n",
      "3120 5757960\n",
      "3130 5760765\n",
      "3140 5763470\n",
      "3150 5766075\n",
      "3160 5768580\n",
      "3170 5770985\n",
      "3180 5773290\n",
      "3190 5775495\n",
      "3200 5777600\n",
      "3210 5779605\n",
      "3220 5781510\n",
      "3230 5783315\n",
      "3240 5785020\n",
      "3250 5786625\n",
      "3260 5788130\n",
      "3270 5789535\n",
      "3280 5790840\n",
      "3290 5792045\n",
      "3300 5793150\n",
      "3310 5794155\n",
      "3320 5795060\n",
      "3330 5795865\n",
      "3340 5796570\n",
      "3350 5797175\n",
      "3360 5797680\n",
      "3370 5798085\n",
      "3380 5798390\n",
      "3390 5798595\n",
      "3400 5798700\n"
     ]
    },
    {
     "data": {
      "text/plain": [
       "[('Emma Watson & Daniel Radcliffe', 8),\n",
       " ('Emma Watson & Rupert Grint', 8),\n",
       " ('Daniel Radcliffe & Rupert Grint', 8),\n",
       " ('Owen Wilson & Ben Stiller', 6),\n",
       " ('Johnny Depp & Helena Bonham Carter', 6)]"
      ]
     },
     "metadata": {},
     "output_type": "display_data"
    }
   ],
   "source": [
    "'''\n",
    "Do not run\n",
    "Very, very slowly!\n",
    "The second variant is better\n",
    "'''\n",
    "\n",
    "# create a new data frame contains separated actors\n",
    "actors_df = column_splitter(data, 'cast', '|')\n",
    "# retrieve actors list\n",
    "actors_list = actors_df['cast'].unique()\n",
    "# actors count\n",
    "a_count = len(actors_list)\n",
    "int_count = 0\n",
    "for i in range(a_count-1): \n",
    "    j = i+1\n",
    "    if i%10==0:\n",
    "        print(i,int_count)\n",
    "    while j < a_count:\n",
    "        # prepare filter\n",
    "        count = data[data['cast'].str.contains(actors_list[i]) & data['cast'].str.contains(actors_list[j])]['imdb_id'].count()\n",
    "        if count > 0:\n",
    "            c[actors_list[i]+' & '+actors_list[j]] += count\n",
    "        j += 1\n",
    "        int_count+=1\n",
    "\n",
    "display(c.most_common(5))\n",
    "answers['27'] = 'Daniel Radcliffe & Rupert Grint'"
   ]
  },
  {
   "cell_type": "markdown",
   "metadata": {
    "colab_type": "text",
    "id": "4ymnxEVoVqAW"
   },
   "source": [
    "ВАРИАНТ 2"
   ]
  },
  {
   "cell_type": "code",
   "execution_count": 331,
   "metadata": {},
   "outputs": [
    {
     "data": {
      "text/plain": [
       "Emma Watson & Rupert Grint            8\n",
       "Daniel Radcliffe & Rupert Grint       8\n",
       "Daniel Radcliffe & Emma Watson        8\n",
       "Helena Bonham Carter & Johnny Depp    6\n",
       "Ben Stiller & Owen Wilson             6\n",
       "Adam Sandler & Kevin James            5\n",
       "Kristen Stewart & Robert Pattinson    5\n",
       "Robert Pattinson & Taylor Lautner     5\n",
       "Kristen Stewart & Taylor Lautner      5\n",
       "Hugh Jackman & Ian McKellen           5\n",
       "Name: pairs, dtype: int64"
      ]
     },
     "metadata": {},
     "output_type": "display_data"
    }
   ],
   "source": [
    "# create a new column contains list of actors\n",
    "data['cast_list'] = data.cast.apply(lambda x: x.split('|'))\n",
    "# retrieve list of actors by movies\n",
    "list_by_movies = data['cast_list'].values\n",
    "# make list for all pairs\n",
    "pairs = []\n",
    "# for each row retrieve list of actors\n",
    "for list_actors_in_movie in list_by_movies:\n",
    "    # sort it to get always equal pairs \n",
    "    list_actors_in_movie.sort()\n",
    "    # create combinations by itertools.combinations\n",
    "    for p in combinations(list_actors_in_movie, 2):\n",
    "        pairs.append(' & '.join(str(x) for x in p))\n",
    "    \n",
    "# create pairs data frame\n",
    "pairs_df = pd.DataFrame(pairs, columns=['pairs'])\n",
    "display(pairs_df.pairs.value_counts().sort_values(ascending=False).head(5))"
   ]
  },
  {
   "cell_type": "code",
   "execution_count": 332,
   "metadata": {},
   "outputs": [],
   "source": [
    "answers['27'] = 'Daniel Radcliffe & Rupert Grint'"
   ]
  },
  {
   "cell_type": "markdown",
   "metadata": {
    "colab_type": "text",
    "id": "U0nONFnGVqAX"
   },
   "source": [
    "# Submission"
   ]
  },
  {
   "cell_type": "code",
   "execution_count": 0,
   "metadata": {
    "colab": {},
    "colab_type": "code",
    "id": "IfcaRO9-VqAX",
    "outputId": "0f132912-32bb-4196-c98c-abfbc4ad5a5f"
   },
   "outputs": [
    {
     "data": {
      "text/plain": [
       "{'1': '...', '2': '...'}"
      ]
     },
     "execution_count": 8,
     "metadata": {
      "tags": []
     },
     "output_type": "execute_result"
    }
   ],
   "source": [
    "# в конце можно посмотреть свои ответы к каждому вопросу\n",
    "answers"
   ]
  },
  {
   "cell_type": "code",
   "execution_count": 0,
   "metadata": {
    "colab": {},
    "colab_type": "code",
    "id": "SiRmHPl8VqAd"
   },
   "outputs": [],
   "source": [
    "# и убедиться что ни чего не пропустил)\n",
    "len(answers)"
   ]
  },
  {
   "cell_type": "code",
   "execution_count": 0,
   "metadata": {
    "colab": {},
    "colab_type": "code",
    "id": "Vwx3NrkSVqAl"
   },
   "outputs": [],
   "source": []
  }
 ],
 "metadata": {
  "colab": {
   "name": "Copy of [SF-DST] Movies IMBD v4.1 TEMPLATE.ipynb",
   "provenance": []
  },
  "kernelspec": {
   "display_name": "Python 3",
   "language": "python",
   "name": "python3"
  },
  "language_info": {
   "codemirror_mode": {
    "name": "ipython",
    "version": 3
   },
   "file_extension": ".py",
   "mimetype": "text/x-python",
   "name": "python",
   "nbconvert_exporter": "python",
   "pygments_lexer": "ipython3",
   "version": "3.8.3"
  }
 },
 "nbformat": 4,
 "nbformat_minor": 1
}
