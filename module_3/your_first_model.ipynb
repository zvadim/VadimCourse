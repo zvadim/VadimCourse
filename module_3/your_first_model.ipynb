{
 "cells": [
  {
   "cell_type": "markdown",
   "metadata": {},
   "source": [
    "## Функции"
   ]
  },
  {
   "cell_type": "code",
   "execution_count": 2664,
   "metadata": {},
   "outputs": [],
   "source": [
    "# Функция, с помощью которой мы будем в новые столбцы заполнять их значениями\n",
    "def find_item(cell):\n",
    "    if item in cell:\n",
    "        return 1\n",
    "    return 0"
   ]
  },
  {
   "cell_type": "markdown",
   "metadata": {},
   "source": [
    "# Загрузка Pandas и очистка данных"
   ]
  },
  {
   "cell_type": "code",
   "execution_count": 2665,
   "metadata": {},
   "outputs": [],
   "source": [
    "import pandas as pd\n",
    "import numpy as np\n",
    "import re\n",
    "from collections import Counter\n",
    "from datetime import datetime\n",
    "import seaborn as sns\n",
    "import matplotlib.pyplot as plt"
   ]
  },
  {
   "cell_type": "code",
   "execution_count": 2666,
   "metadata": {},
   "outputs": [],
   "source": [
    "# фиксируйте RANDOM_SEED, чтобы ваши эксперименты были воспроизводимы!\n",
    "RANDOM_SEED = 42"
   ]
  },
  {
   "cell_type": "code",
   "execution_count": 2667,
   "metadata": {},
   "outputs": [
    {
     "data": {
      "text/html": [
       "<div>\n",
       "<style scoped>\n",
       "    .dataframe tbody tr th:only-of-type {\n",
       "        vertical-align: middle;\n",
       "    }\n",
       "\n",
       "    .dataframe tbody tr th {\n",
       "        vertical-align: top;\n",
       "    }\n",
       "\n",
       "    .dataframe thead th {\n",
       "        text-align: right;\n",
       "    }\n",
       "</style>\n",
       "<table border=\"1\" class=\"dataframe\">\n",
       "  <thead>\n",
       "    <tr style=\"text-align: right;\">\n",
       "      <th></th>\n",
       "      <th>Restaurant_id</th>\n",
       "      <th>City</th>\n",
       "      <th>Cuisine Style</th>\n",
       "      <th>Ranking</th>\n",
       "      <th>Rating</th>\n",
       "      <th>Price Range</th>\n",
       "      <th>Number of Reviews</th>\n",
       "      <th>Reviews</th>\n",
       "      <th>URL_TA</th>\n",
       "      <th>ID_TA</th>\n",
       "    </tr>\n",
       "  </thead>\n",
       "  <tbody>\n",
       "    <tr>\n",
       "      <th>0</th>\n",
       "      <td>id_5569</td>\n",
       "      <td>Paris</td>\n",
       "      <td>['European', 'French', 'International']</td>\n",
       "      <td>5570.0</td>\n",
       "      <td>3.5</td>\n",
       "      <td>$$ - $$$</td>\n",
       "      <td>194.0</td>\n",
       "      <td>[['Good food at your doorstep', 'A good hotel ...</td>\n",
       "      <td>/Restaurant_Review-g187147-d1912643-Reviews-R_...</td>\n",
       "      <td>d1912643</td>\n",
       "    </tr>\n",
       "    <tr>\n",
       "      <th>1</th>\n",
       "      <td>id_1535</td>\n",
       "      <td>Stockholm</td>\n",
       "      <td>NaN</td>\n",
       "      <td>1537.0</td>\n",
       "      <td>4.0</td>\n",
       "      <td>NaN</td>\n",
       "      <td>10.0</td>\n",
       "      <td>[['Unique cuisine', 'Delicious Nepalese food']...</td>\n",
       "      <td>/Restaurant_Review-g189852-d7992032-Reviews-Bu...</td>\n",
       "      <td>d7992032</td>\n",
       "    </tr>\n",
       "    <tr>\n",
       "      <th>2</th>\n",
       "      <td>id_352</td>\n",
       "      <td>London</td>\n",
       "      <td>['Japanese', 'Sushi', 'Asian', 'Grill', 'Veget...</td>\n",
       "      <td>353.0</td>\n",
       "      <td>4.5</td>\n",
       "      <td>$$$$</td>\n",
       "      <td>688.0</td>\n",
       "      <td>[['Catch up with friends', 'Not exceptional'],...</td>\n",
       "      <td>/Restaurant_Review-g186338-d8632781-Reviews-RO...</td>\n",
       "      <td>d8632781</td>\n",
       "    </tr>\n",
       "  </tbody>\n",
       "</table>\n",
       "</div>"
      ],
      "text/plain": [
       "  Restaurant_id       City                                      Cuisine Style  \\\n",
       "0       id_5569      Paris            ['European', 'French', 'International']   \n",
       "1       id_1535  Stockholm                                                NaN   \n",
       "2        id_352     London  ['Japanese', 'Sushi', 'Asian', 'Grill', 'Veget...   \n",
       "\n",
       "   Ranking  Rating Price Range  Number of Reviews  \\\n",
       "0   5570.0     3.5    $$ - $$$              194.0   \n",
       "1   1537.0     4.0         NaN               10.0   \n",
       "2    353.0     4.5        $$$$              688.0   \n",
       "\n",
       "                                             Reviews  \\\n",
       "0  [['Good food at your doorstep', 'A good hotel ...   \n",
       "1  [['Unique cuisine', 'Delicious Nepalese food']...   \n",
       "2  [['Catch up with friends', 'Not exceptional'],...   \n",
       "\n",
       "                                              URL_TA     ID_TA  \n",
       "0  /Restaurant_Review-g187147-d1912643-Reviews-R_...  d1912643  \n",
       "1  /Restaurant_Review-g189852-d7992032-Reviews-Bu...  d7992032  \n",
       "2  /Restaurant_Review-g186338-d8632781-Reviews-RO...  d8632781  "
      ]
     },
     "execution_count": 2667,
     "metadata": {},
     "output_type": "execute_result"
    }
   ],
   "source": [
    "df = pd.read_csv('main_task.csv')\n",
    "pd.set_option('display.max_columns', None)\n",
    "df.head(3)"
   ]
  },
  {
   "cell_type": "code",
   "execution_count": 2668,
   "metadata": {},
   "outputs": [],
   "source": [
    "# Ваш код по очистке данных и генерации новых признаков\n",
    "# При необходимости добавьте ячейки"
   ]
  },
  {
   "cell_type": "code",
   "execution_count": 2669,
   "metadata": {},
   "outputs": [
    {
     "name": "stdout",
     "output_type": "stream",
     "text": [
      "<class 'pandas.core.frame.DataFrame'>\n",
      "RangeIndex: 40000 entries, 0 to 39999\n",
      "Data columns (total 10 columns):\n",
      " #   Column             Non-Null Count  Dtype  \n",
      "---  ------             --------------  -----  \n",
      " 0   Restaurant_id      40000 non-null  object \n",
      " 1   City               40000 non-null  object \n",
      " 2   Cuisine Style      30717 non-null  object \n",
      " 3   Ranking            40000 non-null  float64\n",
      " 4   Rating             40000 non-null  float64\n",
      " 5   Price Range        26114 non-null  object \n",
      " 6   Number of Reviews  37457 non-null  float64\n",
      " 7   Reviews            40000 non-null  object \n",
      " 8   URL_TA             40000 non-null  object \n",
      " 9   ID_TA              40000 non-null  object \n",
      "dtypes: float64(3), object(7)\n",
      "memory usage: 3.1+ MB\n"
     ]
    }
   ],
   "source": [
    "# Проверим данные в колонках\n",
    "df.info()"
   ]
  },
  {
   "cell_type": "markdown",
   "metadata": {},
   "source": [
    "### Cuisine_Style\n",
    "\n",
    "Распределение данных по кухням"
   ]
  },
  {
   "cell_type": "markdown",
   "metadata": {},
   "source": [
    "В первую очередь необходимо заполнить пропуски.\n",
    "Проверим, что хранится в URL_TA"
   ]
  },
  {
   "cell_type": "code",
   "execution_count": 2670,
   "metadata": {},
   "outputs": [
    {
     "data": {
      "text/plain": [
       "/Restaurant_Review-g187514-d1315077-Reviews-El_Pimiento_Verde-Madrid.html                                 2\n",
       "/Restaurant_Review-g187514-d4600226-Reviews-Cafeteria_Teresa-Madrid.html                                  2\n",
       "/Restaurant_Review-g187514-d8753348-Reviews-Tropecientos-Madrid.html                                      2\n",
       "/Restaurant_Review-g187514-d11674463-Reviews-Beerhouse-Madrid.html                                        2\n",
       "/Restaurant_Review-g187514-d7337366-Reviews-Lady_Madonna-Madrid.html                                      2\n",
       "                                                                                                         ..\n",
       "/Restaurant_Review-g188590-d4562372-Reviews-Van_Gogh_Museum_Cafe-Amsterdam_North_Holland_Province.html    1\n",
       "/Restaurant_Review-g190454-d5981102-Reviews-Trzesniewski-Vienna.html                                      1\n",
       "/Restaurant_Review-g189852-d11837440-Reviews-Alegria_Tapas_Bar-Stockholm.html                             1\n",
       "/Restaurant_Review-g187497-d2700265-Reviews-Restaurant_Santa_Anna-Barcelona_Catalonia.html                1\n",
       "/Restaurant_Review-g187147-d7078277-Reviews-Carabinieri-Paris_Ile_de_France.html                          1\n",
       "Name: URL_TA, Length: 39980, dtype: int64"
      ]
     },
     "execution_count": 2670,
     "metadata": {},
     "output_type": "execute_result"
    }
   ],
   "source": [
    "df['URL_TA'].value_counts()"
   ]
  },
  {
   "cell_type": "markdown",
   "metadata": {},
   "source": [
    "Похоже, что есть некоторые данные по типу ресторана.\n",
    "Вытянем эти данные и посмотрим на респределение"
   ]
  },
  {
   "cell_type": "code",
   "execution_count": 2671,
   "metadata": {},
   "outputs": [
    {
     "data": {
      "text/plain": [
       "mcdonald_s                    116\n",
       "burger_king                    53\n",
       "subway                         51\n",
       "pret_a_manger                  48\n",
       "kfc                            41\n",
       "                             ... \n",
       "the_loft_bar_and_grill          1\n",
       "malabida                        1\n",
       "mejo_de_betto_e_mary            1\n",
       "byron_putney                    1\n",
       "konzert_cafe_schwarzenberg      1\n",
       "Name: URL_TA, Length: 37336, dtype: int64"
      ]
     },
     "execution_count": 2671,
     "metadata": {},
     "output_type": "execute_result"
    }
   ],
   "source": [
    "df['URL_TA'] = df['URL_TA'].str.split('-')\n",
    "df['URL_TA'] = [x[4].lower() for x in df.URL_TA]\n",
    "df['URL_TA'].value_counts()"
   ]
  },
  {
   "cell_type": "code",
   "execution_count": 2672,
   "metadata": {},
   "outputs": [
    {
     "data": {
      "text/plain": [
       "mcdonald_s              69\n",
       "subway                  37\n",
       "burger_king             25\n",
       "eat                     19\n",
       "pret_a_manger           16\n",
       "                        ..\n",
       "the_good_life_eatery     1\n",
       "el_llagar_de_granda      1\n",
       "kotyogo                  1\n",
       "proibido                 1\n",
       "tibarg_kebap_haus        1\n",
       "Name: URL_TA, Length: 8890, dtype: int64"
      ]
     },
     "execution_count": 2672,
     "metadata": {},
     "output_type": "execute_result"
    }
   ],
   "source": [
    "df[df['Cuisine Style'].isna()]['URL_TA'].value_counts()"
   ]
  },
  {
   "cell_type": "markdown",
   "metadata": {},
   "source": [
    "Как видно из распределения, наибольшее количество строк с незаполненными значениями кухонь относятся к Fast Food"
   ]
  },
  {
   "cell_type": "code",
   "execution_count": 2673,
   "metadata": {},
   "outputs": [
    {
     "data": {
      "text/plain": [
       "['Fast Food']                                                                                                   9485\n",
       "['Italian']                                                                                                     1032\n",
       "['French']                                                                                                       805\n",
       "['Spanish']                                                                                                      695\n",
       "['French', 'European']                                                                                           405\n",
       "                                                                                                                ... \n",
       "['Cafe', 'Soups', 'Delicatessen', 'Vegetarian Friendly', 'Vegan Options', 'Gluten Free Options']                   1\n",
       "['Barbecue', 'Greek', 'Wine Bar', 'Gluten Free Options']                                                           1\n",
       "['American', 'European', 'Swedish', 'Danish', 'Vegetarian Friendly', 'Vegan Options', 'Gluten Free Options']       1\n",
       "['British', 'American', 'Bar', 'Pub']                                                                              1\n",
       "['Indian', 'Asian', 'Pakistani', 'Vegetarian Friendly', 'Vegan Options', 'Halal', 'Gluten Free Options']           1\n",
       "Name: Cuisine Style, Length: 9007, dtype: int64"
      ]
     },
     "execution_count": 2673,
     "metadata": {},
     "output_type": "execute_result"
    }
   ],
   "source": [
    "# заполним пропуски\n",
    "df['Cuisine Style'].fillna(\"['Fast Food']\", inplace=True)\n",
    "df['Cuisine Style'].value_counts()"
   ]
  },
  {
   "cell_type": "code",
   "execution_count": 2674,
   "metadata": {},
   "outputs": [
    {
     "name": "stdout",
     "output_type": "stream",
     "text": [
      "кухня представлена в наибольшем количестве ресторанов ('Vegetarian Friendly', 11189)\n",
      "среднее количество кухонь предлагается в одном ресторане 2.6224\n"
     ]
    }
   ],
   "source": [
    "# Нам необходимо создать список кухонь\n",
    "c = Counter()\n",
    "cuisine_count = 0\n",
    "for str_val in df['Cuisine Style'].tolist():\n",
    "    cuisine_lst = str_val[1:-1].split(',')\n",
    "    cuisine_count += (1 if len(cuisine_lst) == 0 else len(cuisine_lst))\n",
    "    for cuisine in cuisine_lst:\n",
    "        if cuisine != '':\n",
    "            key = cuisine.strip()[1:-1]\n",
    "            c[key] += 1\n",
    "\n",
    "print('кухня представлена в наибольшем количестве ресторанов',\n",
    "      c.most_common(1)[0])\n",
    "print('среднее количество кухонь предлагается в одном ресторане',\n",
    "      (cuisine_count / len(df)))"
   ]
  },
  {
   "cell_type": "markdown",
   "metadata": {},
   "source": [
    "Выберем 20 наиболее распространненных кухонь, а остальные позже отнесем к редким"
   ]
  },
  {
   "cell_type": "code",
   "execution_count": 2675,
   "metadata": {},
   "outputs": [],
   "source": [
    "cuisines = c.most_common(20)"
   ]
  },
  {
   "cell_type": "markdown",
   "metadata": {},
   "source": [
    "Добавляем новые признаки по кухням и вызываем функцию для заполнения значениями"
   ]
  },
  {
   "cell_type": "code",
   "execution_count": 2676,
   "metadata": {},
   "outputs": [],
   "source": [
    "# сохраним в cuisine_columns название кохонь, которые добавили в колонки\n",
    "cuisine_columns = []\n",
    "\n",
    "for item, frequency in cuisines:\n",
    "    cuisine_columns.append(item)\n",
    "    df[item] = df['Cuisine Style'].apply(find_item)\n"
   ]
  },
  {
   "cell_type": "markdown",
   "metadata": {},
   "source": [
    "Все остальные кухни отнесем к редким и запишем колличество в данном ресторане"
   ]
  },
  {
   "cell_type": "code",
   "execution_count": 2677,
   "metadata": {},
   "outputs": [],
   "source": [
    "# Составим лист редкий кухонь\n",
    "all_cuisines = list(c)\n",
    "most_common = []\n",
    "for letter, count in cuisines:\n",
    "    most_common.append(letter)\n",
    "rare_cuisines = set(all_cuisines) - set(most_common)"
   ]
  },
  {
   "cell_type": "code",
   "execution_count": 2678,
   "metadata": {},
   "outputs": [],
   "source": [
    "# Количество редких кухонь в ресторане\n",
    "def cuisine_rare_count(cell):\n",
    "    x = 0\n",
    "    for i in rare_cuisines:\n",
    "        if i in cell:\n",
    "            x += 1\n",
    "    return x\n",
    "\n",
    "cuisine_columns.append('Cuisine Rare')\n",
    "df['Cuisine Rare'] = df['Cuisine Style'].apply(cuisine_rare_count)"
   ]
  },
  {
   "cell_type": "markdown",
   "metadata": {},
   "source": [
    "### Price Range\n",
    "\n",
    "Проверим распределение данных по ценовой категории"
   ]
  },
  {
   "cell_type": "code",
   "execution_count": 2679,
   "metadata": {},
   "outputs": [
    {
     "data": {
      "text/plain": [
       "$$ - $$$    18412\n",
       "NaN         13886\n",
       "$            6279\n",
       "$$$$         1423\n",
       "Name: Price Range, dtype: int64"
      ]
     },
     "execution_count": 2679,
     "metadata": {},
     "output_type": "execute_result"
    }
   ],
   "source": [
    "df['Price Range'].value_counts(dropna=False)"
   ]
  },
  {
   "cell_type": "markdown",
   "metadata": {},
   "source": [
    "Заполним пропущенные данные модай"
   ]
  },
  {
   "cell_type": "code",
   "execution_count": 2680,
   "metadata": {},
   "outputs": [
    {
     "data": {
      "text/plain": [
       "$$ - $$$    32298\n",
       "$            6279\n",
       "$$$$         1423\n",
       "Name: Price Range, dtype: int64"
      ]
     },
     "execution_count": 2680,
     "metadata": {},
     "output_type": "execute_result"
    }
   ],
   "source": [
    "df['Price Range'].fillna(df['Price Range'].mode()[0], inplace=True)\n",
    "df['Price Range'].value_counts()"
   ]
  },
  {
   "cell_type": "markdown",
   "metadata": {},
   "source": [
    "Заменим данные ценовых категорий на читабельные и разнесём по дополнителныем признакам\n",
    "\n",
    "#### Ремарка:\n",
    "данный способ при проверке не подтвердил свою актуальность и позже будет изменен"
   ]
  },
  {
   "cell_type": "code",
   "execution_count": 2681,
   "metadata": {},
   "outputs": [
    {
     "data": {
      "text/plain": [
       "'\\nprice_dict = {\\n    \"$\":\\'Cheap\\',\\n    \"$$ - $$$\":\\'Middle\\',\\n    \"$$$$\":\\'Expensive\\'\\n}\\ndf[\\'Price Range\\'] = df[\\'Price Range\\'].replace(to_replace=price_dict)\\n'"
      ]
     },
     "execution_count": 2681,
     "metadata": {},
     "output_type": "execute_result"
    }
   ],
   "source": [
    "# Заменим данные Price_Range на читабельные\n",
    "'''\n",
    "price_dict = {\n",
    "    \"$\":'Cheap',\n",
    "    \"$$ - $$$\":'Middle',\n",
    "    \"$$$$\":'Expensive'\n",
    "}\n",
    "df['Price Range'] = df['Price Range'].replace(to_replace=price_dict)\n",
    "'''"
   ]
  },
  {
   "cell_type": "markdown",
   "metadata": {},
   "source": [
    "Добавляем новые признаки ценовых категорий"
   ]
  },
  {
   "cell_type": "code",
   "execution_count": 2682,
   "metadata": {},
   "outputs": [
    {
     "data": {
      "text/plain": [
       "\"df = pd.concat([df, pd.get_dummies(df['Price Range'], drop_first=False)], axis=1);\""
      ]
     },
     "execution_count": 2682,
     "metadata": {},
     "output_type": "execute_result"
    }
   ],
   "source": [
    "'''df = pd.concat([df, pd.get_dummies(df['Price Range'], drop_first=False)], axis=1);'''"
   ]
  },
  {
   "cell_type": "markdown",
   "metadata": {},
   "source": [
    "В связи с тем, что распределение ценовых категорий на раздельные признаки не улучшило результат, пробуем отказаться от использования ценовых категорий как категорального признака. \n",
    "Закоментируем предыдущий код.\n",
    "Будем использовать ценовые категории как числовой признак, для чего заменим данные на условный разряд"
   ]
  },
  {
   "cell_type": "code",
   "execution_count": 2683,
   "metadata": {},
   "outputs": [],
   "source": [
    "price_dict = {\n",
    "    \"$\": 1,\n",
    "    \"$$ - $$$\": 2,\n",
    "    \"$$$$\": 3\n",
    "}\n",
    "df['Price Range'] = df['Price Range'].replace(to_replace=price_dict)"
   ]
  },
  {
   "cell_type": "markdown",
   "metadata": {},
   "source": [
    "Произошло некоторое улучшение МАЕ"
   ]
  },
  {
   "cell_type": "markdown",
   "metadata": {},
   "source": [
    "### Reviews\n",
    "Проверим распределение данных по отзывам"
   ]
  },
  {
   "cell_type": "code",
   "execution_count": 2684,
   "metadata": {},
   "outputs": [
    {
     "data": {
      "text/plain": [
       "18745                                             [[], []]\n",
       "17440    [['Breakfast pit stop!', 'Local hospitality'],...\n",
       "7951     [['Good coffee', 'Wonderful coffee shop!'], ['...\n",
       "19132    [['Cool Mexican', 'Great local restaurant'], [...\n",
       "16280    [['A gem near the Michel in the \"Komponisten.....\n",
       "Name: Reviews, dtype: object"
      ]
     },
     "execution_count": 2684,
     "metadata": {},
     "output_type": "execute_result"
    }
   ],
   "source": [
    "df['Reviews'].sample(5)"
   ]
  },
  {
   "cell_type": "markdown",
   "metadata": {},
   "source": [
    "В отзывах записаны как сами отзывы, так и даты первого и последнего отзыва"
   ]
  },
  {
   "cell_type": "markdown",
   "metadata": {},
   "source": [
    "Выделим даты в отдельные колонки"
   ]
  },
  {
   "cell_type": "code",
   "execution_count": 2685,
   "metadata": {},
   "outputs": [],
   "source": [
    "# Задаем паттерн для даты\n",
    "pattern = re.compile('\\'\\d+\\/\\d+\\/\\d+\\'?')\n",
    "# Записываем даты в список\n",
    "dates_array = []\n",
    "cycle = -1\n",
    "for row in df['Reviews']:\n",
    "    cycle += 1\n",
    "    dates_str = pattern.findall(row)\n",
    "    # Каждый цикл добавлям новый массив\n",
    "    dates_array.append([])\n",
    "    # Проходим по датам в строке\n",
    "    for i in range(len(dates_str)):\n",
    "        str_date = dates_str[i][1:-1]\n",
    "        if str_date == '':\n",
    "            continue\n",
    "\n",
    "        # Переводим строковую дату в datetime\n",
    "        the_date = datetime.strptime(str_date, '%m/%d/%Y')\n",
    "        # Добавляем дату в список по индексу\n",
    "        dates_array[cycle].append(the_date)"
   ]
  },
  {
   "cell_type": "code",
   "execution_count": 2686,
   "metadata": {},
   "outputs": [],
   "source": [
    "# Добавляем даты из списка в DataFrame\n",
    "df2 = pd.DataFrame(dates_array, columns=['Last_Review', 'First_Review'])\n",
    "df = pd.concat([df, df2.reindex(df.index)], axis=1)"
   ]
  },
  {
   "cell_type": "code",
   "execution_count": 2687,
   "metadata": {},
   "outputs": [
    {
     "data": {
      "text/html": [
       "<div>\n",
       "<style scoped>\n",
       "    .dataframe tbody tr th:only-of-type {\n",
       "        vertical-align: middle;\n",
       "    }\n",
       "\n",
       "    .dataframe tbody tr th {\n",
       "        vertical-align: top;\n",
       "    }\n",
       "\n",
       "    .dataframe thead th {\n",
       "        text-align: right;\n",
       "    }\n",
       "</style>\n",
       "<table border=\"1\" class=\"dataframe\">\n",
       "  <thead>\n",
       "    <tr style=\"text-align: right;\">\n",
       "      <th></th>\n",
       "      <th>Last_Review</th>\n",
       "      <th>First_Review</th>\n",
       "      <th>Number of Reviews</th>\n",
       "    </tr>\n",
       "  </thead>\n",
       "  <tbody>\n",
       "    <tr>\n",
       "      <th>22343</th>\n",
       "      <td>NaT</td>\n",
       "      <td>NaT</td>\n",
       "      <td>NaN</td>\n",
       "    </tr>\n",
       "    <tr>\n",
       "      <th>7371</th>\n",
       "      <td>2016-02-17</td>\n",
       "      <td>2015-06-18</td>\n",
       "      <td>17.0</td>\n",
       "    </tr>\n",
       "    <tr>\n",
       "      <th>37331</th>\n",
       "      <td>2017-09-22</td>\n",
       "      <td>NaT</td>\n",
       "      <td>7.0</td>\n",
       "    </tr>\n",
       "    <tr>\n",
       "      <th>20637</th>\n",
       "      <td>2017-09-25</td>\n",
       "      <td>2017-08-15</td>\n",
       "      <td>91.0</td>\n",
       "    </tr>\n",
       "    <tr>\n",
       "      <th>12191</th>\n",
       "      <td>2018-01-03</td>\n",
       "      <td>2017-10-21</td>\n",
       "      <td>463.0</td>\n",
       "    </tr>\n",
       "  </tbody>\n",
       "</table>\n",
       "</div>"
      ],
      "text/plain": [
       "      Last_Review First_Review  Number of Reviews\n",
       "22343         NaT          NaT                NaN\n",
       "7371   2016-02-17   2015-06-18               17.0\n",
       "37331  2017-09-22          NaT                7.0\n",
       "20637  2017-09-25   2017-08-15               91.0\n",
       "12191  2018-01-03   2017-10-21              463.0"
      ]
     },
     "execution_count": 2687,
     "metadata": {},
     "output_type": "execute_result"
    }
   ],
   "source": [
    "df[['Last_Review', 'First_Review', 'Number of Reviews']].sample(5)"
   ]
  },
  {
   "cell_type": "markdown",
   "metadata": {},
   "source": [
    "Заполняем пустые значения последней датой отзыва"
   ]
  },
  {
   "cell_type": "code",
   "execution_count": 2688,
   "metadata": {},
   "outputs": [],
   "source": [
    "last_date = df['Last_Review'].max()\n",
    "values = {'Last_Review': last_date, 'First_Review': last_date}\n",
    "df.fillna(value=values, inplace=True)"
   ]
  },
  {
   "cell_type": "markdown",
   "metadata": {},
   "source": [
    "Добавим новый признак - количесво дней между отзывами"
   ]
  },
  {
   "cell_type": "code",
   "execution_count": 2689,
   "metadata": {},
   "outputs": [],
   "source": [
    "df['Days_Between_Reviews'] = (df['Last_Review'] - df['First_Review']).dt.days"
   ]
  },
  {
   "cell_type": "markdown",
   "metadata": {},
   "source": [
    "Проверим распределение"
   ]
  },
  {
   "cell_type": "code",
   "execution_count": 2690,
   "metadata": {},
   "outputs": [
    {
     "data": {
      "text/plain": [
       "count    40000.000000\n",
       "mean        16.339600\n",
       "std        369.213643\n",
       "min      -5059.000000\n",
       "25%          0.000000\n",
       "50%         20.000000\n",
       "75%        105.000000\n",
       "max       3207.000000\n",
       "Name: Days_Between_Reviews, dtype: float64"
      ]
     },
     "execution_count": 2690,
     "metadata": {},
     "output_type": "execute_result"
    },
    {
     "data": {
      "image/png": "[encoded data removed]",
      "text/plain": [
       "<Figure size 720x720 with 1 Axes>"
      ]
     },
     "metadata": {
      "needs_background": "light"
     },
     "output_type": "display_data"
    }
   ],
   "source": [
    "df['Days_Between_Reviews'].hist()\n",
    "df['Days_Between_Reviews'].describe()"
   ]
  },
  {
   "cell_type": "markdown",
   "metadata": {},
   "source": [
    "Видны отрицательны значения. Это значит, что в ряде строк дата последнего и первого отзыва поменялись местами. \n",
    "Повторно расчитаем колличество дней с абсолютным значением."
   ]
  },
  {
   "cell_type": "code",
   "execution_count": 2691,
   "metadata": {},
   "outputs": [],
   "source": [
    "df['Days_Between_Reviews'] = abs(\n",
    "    (df['Last_Review'] - df['First_Review']).dt.days)"
   ]
  },
  {
   "cell_type": "code",
   "execution_count": 2692,
   "metadata": {},
   "outputs": [
    {
     "data": {
      "text/plain": [
       "count    40000.000000\n",
       "mean       176.186250\n",
       "std        324.874334\n",
       "min          0.000000\n",
       "25%          7.000000\n",
       "50%         58.000000\n",
       "75%        192.000000\n",
       "max       5059.000000\n",
       "Name: Days_Between_Reviews, dtype: float64"
      ]
     },
     "execution_count": 2692,
     "metadata": {},
     "output_type": "execute_result"
    },
    {
     "data": {
      "image/png": "[encoded data removed]",
      "text/plain": [
       "<Figure size 720x720 with 1 Axes>"
      ]
     },
     "metadata": {
      "needs_background": "light"
     },
     "output_type": "display_data"
    }
   ],
   "source": [
    "df['Days_Between_Reviews'].hist()\n",
    "df['Days_Between_Reviews'].describe()"
   ]
  },
  {
   "cell_type": "markdown",
   "metadata": {},
   "source": [
    "Видно, что подавляющее количество дней между отзывами лежит в промежутке 0 - 1000. Остальные значения можно считать выбросами.\n",
    "Отфильтруем выбросы с помощью интерквартильного расстояния"
   ]
  },
  {
   "cell_type": "code",
   "execution_count": 2693,
   "metadata": {},
   "outputs": [],
   "source": [
    "median = df['Days_Between_Reviews'].median()\n",
    "IQR = df['Days_Between_Reviews'].quantile(\n",
    "    0.75) - df['Days_Between_Reviews'].quantile(0.25)\n",
    "perc25 = df['Days_Between_Reviews'].quantile(0.25)\n",
    "perc75 = df['Days_Between_Reviews'].quantile(0.75)\n",
    "\n",
    "df['Days_Between_Reviews'] = df['Days_Between_Reviews'][df['Days_Between_Reviews'].between(\n",
    "    perc25 - 1.5*IQR, perc75 + 1.5*IQR)]"
   ]
  },
  {
   "cell_type": "markdown",
   "metadata": {},
   "source": [
    "Заполним среднее количество дней в отсутствующие данные"
   ]
  },
  {
   "cell_type": "code",
   "execution_count": 2694,
   "metadata": {},
   "outputs": [],
   "source": [
    "mean_abs = round(df['Days_Between_Reviews'].mean(), 0)\n",
    "df['Days_Between_Reviews'] = df['Days_Between_Reviews'].fillna(mean_abs)"
   ]
  },
  {
   "cell_type": "code",
   "execution_count": 2695,
   "metadata": {},
   "outputs": [
    {
     "data": {
      "text/plain": [
       "count    40000.000000\n",
       "mean        87.976850\n",
       "std        102.666346\n",
       "min          0.000000\n",
       "25%          7.000000\n",
       "50%         58.000000\n",
       "75%        118.000000\n",
       "max        469.000000\n",
       "Name: Days_Between_Reviews, dtype: float64"
      ]
     },
     "execution_count": 2695,
     "metadata": {},
     "output_type": "execute_result"
    },
    {
     "data": {
      "image/png": "[encoded data removed]",
      "text/plain": [
       "<Figure size 720x720 with 1 Axes>"
      ]
     },
     "metadata": {
      "needs_background": "light"
     },
     "output_type": "display_data"
    }
   ],
   "source": [
    "df['Days_Between_Reviews'].hist()\n",
    "df['Days_Between_Reviews'].describe()"
   ]
  },
  {
   "cell_type": "markdown",
   "metadata": {},
   "source": [
    "Данные распределены нормально"
   ]
  },
  {
   "cell_type": "markdown",
   "metadata": {},
   "source": [
    "Добавляем признаки - количество положительных и отрицательных отзывов"
   ]
  },
  {
   "cell_type": "code",
   "execution_count": 2696,
   "metadata": {},
   "outputs": [],
   "source": [
    "positive_pattern = 'Good|Unique|Delicious|Best|Amazing|Nice|Better|Excellent|Clean|Great|Healthy|Lovely\\\n",
    "|Traditional|Brilliant|Fresh|Top|Perfect|enjoy|not miss|Awesome|Beautiful|Cosy\\\n",
    "|Tasty|Fabulous|Cheap|Friend|Family|Interesting|Wonderful|Ideal|Fantastic|Love|Delightful'\n",
    "\n",
    "negative_pattern = 'Underground|Wasting|Bad|Boring|Shameful|Poor|Nothing|Terrible|Expensive|Not recommend\\\n",
    "|Disappointing|Lack|Nothing'\n",
    "\n",
    "df['Positive_Revies'] = df['Reviews'].str.count(\n",
    "    positive_pattern, flags=re.IGNORECASE)\n",
    "df['Negative_Revies'] = df['Reviews'].str.count(\n",
    "    negative_pattern, flags=re.IGNORECASE)"
   ]
  },
  {
   "cell_type": "markdown",
   "metadata": {},
   "source": [
    "### Number of Reviews\n",
    "\n",
    "Проверим распределение признака"
   ]
  },
  {
   "cell_type": "code",
   "execution_count": 2697,
   "metadata": {},
   "outputs": [
    {
     "data": {
      "text/plain": [
       "count    37457.000000\n",
       "mean       124.825480\n",
       "std        295.666352\n",
       "min          2.000000\n",
       "25%          9.000000\n",
       "50%         33.000000\n",
       "75%        115.000000\n",
       "max       9660.000000\n",
       "Name: Number of Reviews, dtype: float64"
      ]
     },
     "execution_count": 2697,
     "metadata": {},
     "output_type": "execute_result"
    },
    {
     "data": {
      "image/png": "[encoded data removed]",
      "text/plain": [
       "<Figure size 720x720 with 1 Axes>"
      ]
     },
     "metadata": {
      "needs_background": "light"
     },
     "output_type": "display_data"
    }
   ],
   "source": [
    "df['Number of Reviews'].hist()\n",
    "df['Number of Reviews'].describe()"
   ]
  },
  {
   "cell_type": "markdown",
   "metadata": {},
   "source": [
    "Видно, что подавляющее количество отзывов лежит в промежутке 0 - 1000. Остальные значения можно считать выбросами.\n",
    "Отфильтруем выбросы с помощью интерквартильного расстояния."
   ]
  },
  {
   "cell_type": "code",
   "execution_count": 2698,
   "metadata": {},
   "outputs": [],
   "source": [
    "median = df['Number of Reviews'].median()\n",
    "IQR = df['Number of Reviews'].quantile(0.75) - df['Number of Reviews'].quantile(0.25)\n",
    "perc25 = df['Number of Reviews'].quantile(0.25)\n",
    "perc75 = df['Number of Reviews'].quantile(0.75)\n",
    "\n",
    "df['Number of Reviews'] = df['Number of Reviews'][df['Number of Reviews'].between(\n",
    "    perc25 - 1.5*IQR, perc75 + 1.5*IQR)]"
   ]
  },
  {
   "cell_type": "markdown",
   "metadata": {},
   "source": [
    "Заполним пропуски в данных средним значением переменной"
   ]
  },
  {
   "cell_type": "code",
   "execution_count": 2699,
   "metadata": {},
   "outputs": [],
   "source": [
    "mean_abs = round(df['Number of Reviews'].mean(), 0)\n",
    "df['Number of Reviews'].fillna(mean_abs, inplace=True)"
   ]
  },
  {
   "cell_type": "markdown",
   "metadata": {},
   "source": [
    "Еще раз проверим распределение признака"
   ]
  },
  {
   "cell_type": "code",
   "execution_count": 2700,
   "metadata": {},
   "outputs": [
    {
     "data": {
      "text/plain": [
       "count    40000.000000\n",
       "mean        51.907175\n",
       "std         56.733789\n",
       "min          2.000000\n",
       "25%         10.000000\n",
       "50%         38.000000\n",
       "75%         58.000000\n",
       "max        274.000000\n",
       "Name: Number of Reviews, dtype: float64"
      ]
     },
     "execution_count": 2700,
     "metadata": {},
     "output_type": "execute_result"
    },
    {
     "data": {
      "image/png": "[encoded data removed]",
      "text/plain": [
       "<Figure size 720x720 with 1 Axes>"
      ]
     },
     "metadata": {
      "needs_background": "light"
     },
     "output_type": "display_data"
    }
   ],
   "source": [
    "df['Number of Reviews'].hist()\n",
    "df['Number of Reviews'].describe()"
   ]
  },
  {
   "cell_type": "markdown",
   "metadata": {},
   "source": [
    "Данные распределены нормально"
   ]
  },
  {
   "cell_type": "markdown",
   "metadata": {},
   "source": [
    "### Еще раз посмотрим на данные"
   ]
  },
  {
   "cell_type": "code",
   "execution_count": 2701,
   "metadata": {},
   "outputs": [
    {
     "data": {
      "text/html": [
       "<div>\n",
       "<style scoped>\n",
       "    .dataframe tbody tr th:only-of-type {\n",
       "        vertical-align: middle;\n",
       "    }\n",
       "\n",
       "    .dataframe tbody tr th {\n",
       "        vertical-align: top;\n",
       "    }\n",
       "\n",
       "    .dataframe thead th {\n",
       "        text-align: right;\n",
       "    }\n",
       "</style>\n",
       "<table border=\"1\" class=\"dataframe\">\n",
       "  <thead>\n",
       "    <tr style=\"text-align: right;\">\n",
       "      <th></th>\n",
       "      <th>Restaurant_id</th>\n",
       "      <th>City</th>\n",
       "      <th>Cuisine Style</th>\n",
       "      <th>Ranking</th>\n",
       "      <th>Rating</th>\n",
       "      <th>Price Range</th>\n",
       "      <th>Number of Reviews</th>\n",
       "      <th>Reviews</th>\n",
       "      <th>URL_TA</th>\n",
       "      <th>ID_TA</th>\n",
       "      <th>Vegetarian Friendly</th>\n",
       "      <th>Fast Food</th>\n",
       "      <th>European</th>\n",
       "      <th>Mediterranean</th>\n",
       "      <th>Italian</th>\n",
       "      <th>Vegan Options</th>\n",
       "      <th>Gluten Free Options</th>\n",
       "      <th>Bar</th>\n",
       "      <th>French</th>\n",
       "      <th>Asian</th>\n",
       "      <th>Pizza</th>\n",
       "      <th>Spanish</th>\n",
       "      <th>Pub</th>\n",
       "      <th>Cafe</th>\n",
       "      <th>British</th>\n",
       "      <th>International</th>\n",
       "      <th>Seafood</th>\n",
       "      <th>Japanese</th>\n",
       "      <th>Central European</th>\n",
       "      <th>American</th>\n",
       "      <th>Cuisine Rare</th>\n",
       "      <th>Last_Review</th>\n",
       "      <th>First_Review</th>\n",
       "      <th>Days_Between_Reviews</th>\n",
       "      <th>Positive_Revies</th>\n",
       "      <th>Negative_Revies</th>\n",
       "    </tr>\n",
       "  </thead>\n",
       "  <tbody>\n",
       "    <tr>\n",
       "      <th>29968</th>\n",
       "      <td>id_1331</td>\n",
       "      <td>Dublin</td>\n",
       "      <td>['Cafe', 'Vegetarian Friendly']</td>\n",
       "      <td>1334.0</td>\n",
       "      <td>4.0</td>\n",
       "      <td>2</td>\n",
       "      <td>33.0</td>\n",
       "      <td>[['Homely Coffee House cafe....', 'Very good b...</td>\n",
       "      <td>the_roastery_cafe</td>\n",
       "      <td>d6965386</td>\n",
       "      <td>1</td>\n",
       "      <td>0</td>\n",
       "      <td>0</td>\n",
       "      <td>0</td>\n",
       "      <td>0</td>\n",
       "      <td>0</td>\n",
       "      <td>0</td>\n",
       "      <td>0</td>\n",
       "      <td>0</td>\n",
       "      <td>0</td>\n",
       "      <td>0</td>\n",
       "      <td>0</td>\n",
       "      <td>0</td>\n",
       "      <td>1</td>\n",
       "      <td>0</td>\n",
       "      <td>0</td>\n",
       "      <td>0</td>\n",
       "      <td>0</td>\n",
       "      <td>0</td>\n",
       "      <td>0</td>\n",
       "      <td>0</td>\n",
       "      <td>2017-11-21</td>\n",
       "      <td>2017-04-20</td>\n",
       "      <td>215.0</td>\n",
       "      <td>1</td>\n",
       "      <td>0</td>\n",
       "    </tr>\n",
       "    <tr>\n",
       "      <th>2627</th>\n",
       "      <td>id_1634</td>\n",
       "      <td>Edinburgh</td>\n",
       "      <td>['Italian', 'American', 'Gluten Free Options']</td>\n",
       "      <td>1640.0</td>\n",
       "      <td>3.0</td>\n",
       "      <td>2</td>\n",
       "      <td>149.0</td>\n",
       "      <td>[['After cinema meal', 'Slow slow service at l...</td>\n",
       "      <td>frankie_benny_s_fort_kinnaird</td>\n",
       "      <td>d7270068</td>\n",
       "      <td>0</td>\n",
       "      <td>0</td>\n",
       "      <td>0</td>\n",
       "      <td>0</td>\n",
       "      <td>1</td>\n",
       "      <td>0</td>\n",
       "      <td>1</td>\n",
       "      <td>0</td>\n",
       "      <td>0</td>\n",
       "      <td>0</td>\n",
       "      <td>0</td>\n",
       "      <td>0</td>\n",
       "      <td>0</td>\n",
       "      <td>0</td>\n",
       "      <td>0</td>\n",
       "      <td>0</td>\n",
       "      <td>0</td>\n",
       "      <td>0</td>\n",
       "      <td>0</td>\n",
       "      <td>1</td>\n",
       "      <td>0</td>\n",
       "      <td>2017-11-25</td>\n",
       "      <td>2017-11-18</td>\n",
       "      <td>7.0</td>\n",
       "      <td>0</td>\n",
       "      <td>0</td>\n",
       "    </tr>\n",
       "    <tr>\n",
       "      <th>15101</th>\n",
       "      <td>id_9051</td>\n",
       "      <td>London</td>\n",
       "      <td>['Caribbean', 'Cafe']</td>\n",
       "      <td>9060.0</td>\n",
       "      <td>5.0</td>\n",
       "      <td>2</td>\n",
       "      <td>52.0</td>\n",
       "      <td>[['Super good food'], ['08/05/2017']]</td>\n",
       "      <td>uptown_cafe</td>\n",
       "      <td>d7278610</td>\n",
       "      <td>0</td>\n",
       "      <td>0</td>\n",
       "      <td>0</td>\n",
       "      <td>0</td>\n",
       "      <td>0</td>\n",
       "      <td>0</td>\n",
       "      <td>0</td>\n",
       "      <td>0</td>\n",
       "      <td>0</td>\n",
       "      <td>0</td>\n",
       "      <td>0</td>\n",
       "      <td>0</td>\n",
       "      <td>0</td>\n",
       "      <td>1</td>\n",
       "      <td>0</td>\n",
       "      <td>0</td>\n",
       "      <td>0</td>\n",
       "      <td>0</td>\n",
       "      <td>0</td>\n",
       "      <td>0</td>\n",
       "      <td>1</td>\n",
       "      <td>2017-08-05</td>\n",
       "      <td>2018-02-26</td>\n",
       "      <td>205.0</td>\n",
       "      <td>1</td>\n",
       "      <td>0</td>\n",
       "    </tr>\n",
       "  </tbody>\n",
       "</table>\n",
       "</div>"
      ],
      "text/plain": [
       "      Restaurant_id       City  \\\n",
       "29968       id_1331     Dublin   \n",
       "2627        id_1634  Edinburgh   \n",
       "15101       id_9051     London   \n",
       "\n",
       "                                        Cuisine Style  Ranking  Rating  \\\n",
       "29968                 ['Cafe', 'Vegetarian Friendly']   1334.0     4.0   \n",
       "2627   ['Italian', 'American', 'Gluten Free Options']   1640.0     3.0   \n",
       "15101                           ['Caribbean', 'Cafe']   9060.0     5.0   \n",
       "\n",
       "       Price Range  Number of Reviews  \\\n",
       "29968            2               33.0   \n",
       "2627             2              149.0   \n",
       "15101            2               52.0   \n",
       "\n",
       "                                                 Reviews  \\\n",
       "29968  [['Homely Coffee House cafe....', 'Very good b...   \n",
       "2627   [['After cinema meal', 'Slow slow service at l...   \n",
       "15101              [['Super good food'], ['08/05/2017']]   \n",
       "\n",
       "                              URL_TA     ID_TA  Vegetarian Friendly  \\\n",
       "29968              the_roastery_cafe  d6965386                    1   \n",
       "2627   frankie_benny_s_fort_kinnaird  d7270068                    0   \n",
       "15101                    uptown_cafe  d7278610                    0   \n",
       "\n",
       "       Fast Food  European  Mediterranean  Italian  Vegan Options  \\\n",
       "29968          0         0              0        0              0   \n",
       "2627           0         0              0        1              0   \n",
       "15101          0         0              0        0              0   \n",
       "\n",
       "       Gluten Free Options  Bar  French  Asian  Pizza  Spanish  Pub  Cafe  \\\n",
       "29968                    0    0       0      0      0        0    0     1   \n",
       "2627                     1    0       0      0      0        0    0     0   \n",
       "15101                    0    0       0      0      0        0    0     1   \n",
       "\n",
       "       British  International  Seafood  Japanese  Central European  American  \\\n",
       "29968        0              0        0         0                 0         0   \n",
       "2627         0              0        0         0                 0         1   \n",
       "15101        0              0        0         0                 0         0   \n",
       "\n",
       "       Cuisine Rare Last_Review First_Review  Days_Between_Reviews  \\\n",
       "29968             0  2017-11-21   2017-04-20                 215.0   \n",
       "2627              0  2017-11-25   2017-11-18                   7.0   \n",
       "15101             1  2017-08-05   2018-02-26                 205.0   \n",
       "\n",
       "       Positive_Revies  Negative_Revies  \n",
       "29968                1                0  \n",
       "2627                 0                0  \n",
       "15101                1                0  "
      ]
     },
     "execution_count": 2701,
     "metadata": {},
     "output_type": "execute_result"
    }
   ],
   "source": [
    "df.sample(3)"
   ]
  },
  {
   "cell_type": "markdown",
   "metadata": {},
   "source": [
    "### City"
   ]
  },
  {
   "cell_type": "code",
   "execution_count": 2702,
   "metadata": {},
   "outputs": [
    {
     "data": {
      "text/plain": [
       "array(['Paris', 'Stockholm', 'London', 'Berlin', 'Munich', 'Oporto',\n",
       "       'Milan', 'Bratislava', 'Vienna', 'Rome', 'Barcelona', 'Madrid',\n",
       "       'Dublin', 'Brussels', 'Zurich', 'Warsaw', 'Budapest', 'Copenhagen',\n",
       "       'Amsterdam', 'Lyon', 'Hamburg', 'Lisbon', 'Prague', 'Oslo',\n",
       "       'Helsinki', 'Edinburgh', 'Geneva', 'Ljubljana', 'Athens',\n",
       "       'Luxembourg', 'Krakow'], dtype=object)"
      ]
     },
     "execution_count": 2702,
     "metadata": {},
     "output_type": "execute_result"
    }
   ],
   "source": [
    "df['City'].unique()"
   ]
  },
  {
   "cell_type": "markdown",
   "metadata": {},
   "source": [
    "Изменим значение Oporto на Porto"
   ]
  },
  {
   "cell_type": "code",
   "execution_count": 2703,
   "metadata": {},
   "outputs": [],
   "source": [
    "df.loc[df['City'] == 'Oporto', 'City'] = 'Porto'"
   ]
  },
  {
   "cell_type": "code",
   "execution_count": 2704,
   "metadata": {},
   "outputs": [
    {
     "data": {
      "text/plain": [
       "<matplotlib.axes._subplots.AxesSubplot at 0x1ea06846a00>"
      ]
     },
     "execution_count": 2704,
     "metadata": {},
     "output_type": "execute_result"
    },
    {
     "data": {
      "image/png": "[encoded data removed]",
      "text/plain": [
       "<Figure size 1080x288 with 1 Axes>"
      ]
     },
     "metadata": {
      "needs_background": "light"
     },
     "output_type": "display_data"
    }
   ],
   "source": [
    "plt.figure(figsize=(15, 4))\n",
    "df['City'].value_counts(ascending=False).plot(kind='bar')"
   ]
  },
  {
   "cell_type": "markdown",
   "metadata": {},
   "source": [
    "Создадим список городов и найдем в добавленом датасете эти города."
   ]
  },
  {
   "cell_type": "code",
   "execution_count": 2705,
   "metadata": {},
   "outputs": [],
   "source": [
    "#df['Ranked_Cities'] = df['City'].rank()"
   ]
  },
  {
   "cell_type": "markdown",
   "metadata": {},
   "source": [
    "Создадим признак количества отзывов по городам."
   ]
  },
  {
   "cell_type": "code",
   "execution_count": 2706,
   "metadata": {},
   "outputs": [],
   "source": [
    "rewiews_city_dict = dict(df.groupby('City')['Number of Reviews'].sum())\n",
    "df['Rewiews_by_City'] = df.City.map(rewiews_city_dict)"
   ]
  },
  {
   "cell_type": "markdown",
   "metadata": {},
   "source": [
    "Создадим признак отношения рейтинга в городе к количеству отзывов в городе."
   ]
  },
  {
   "cell_type": "code",
   "execution_count": 2707,
   "metadata": {},
   "outputs": [],
   "source": [
    "df['Relative_Rank_Reviews'] = df['Ranking'] / df['Rewiews_by_City']"
   ]
  },
  {
   "cell_type": "markdown",
   "metadata": {},
   "source": [
    "Создадим признак ценовых категорий по городам."
   ]
  },
  {
   "cell_type": "code",
   "execution_count": 2708,
   "metadata": {},
   "outputs": [],
   "source": [
    "price_range_city_dict = dict(df.groupby('City')['Price Range'].mean())\n",
    "df['Price_Range_by_City'] = df['City'].map(price_range_city_dict)"
   ]
  },
  {
   "cell_type": "markdown",
   "metadata": {},
   "source": [
    "Создадим признак отношения рейтинга в городе к ценовой категории в городе."
   ]
  },
  {
   "cell_type": "code",
   "execution_count": 2709,
   "metadata": {},
   "outputs": [],
   "source": [
    "df['Relative_Price_Range'] = df['Ranking'] / df['Price_Range_by_City']"
   ]
  },
  {
   "cell_type": "markdown",
   "metadata": {},
   "source": [
    "Создадим признак количества дней между отзывами по городам."
   ]
  },
  {
   "cell_type": "code",
   "execution_count": 2710,
   "metadata": {},
   "outputs": [],
   "source": [
    "days_city_dict = dict(df.groupby('City')['Days_Between_Reviews'].sum())\n",
    "df['Days_Between_Reviews_by_City'] = df['City'].map(days_city_dict)"
   ]
  },
  {
   "cell_type": "markdown",
   "metadata": {},
   "source": [
    "Создадим признак отношения рейтинга в городе к количеству дней между отзывами по городам."
   ]
  },
  {
   "cell_type": "code",
   "execution_count": 2711,
   "metadata": {},
   "outputs": [],
   "source": [
    "df['Relative_Days_Between_Reviews_Range'] = df['Ranking'] / df['Days_Between_Reviews_by_City']"
   ]
  },
  {
   "cell_type": "markdown",
   "metadata": {},
   "source": [
    "Создадим признак количества кухонь по городам."
   ]
  },
  {
   "cell_type": "code",
   "execution_count": 2712,
   "metadata": {},
   "outputs": [],
   "source": [
    "cuisines_city_dict = dict(df.groupby('City')[cuisine_columns].sum().sum(axis=1))\n",
    "df['Cuisines_by_City'] = df['City'].map(cuisines_city_dict)"
   ]
  },
  {
   "cell_type": "markdown",
   "metadata": {},
   "source": [
    "Создадим признак отношения рейтинга в городе к количеству кухонь по городам."
   ]
  },
  {
   "cell_type": "code",
   "execution_count": 2713,
   "metadata": {},
   "outputs": [],
   "source": [
    "df['Relative_Cuisines_Range_by_City'] = df['Ranking'] / df['Cuisines_by_City']"
   ]
  },
  {
   "cell_type": "markdown",
   "metadata": {},
   "source": [
    "### Корреляция признаков"
   ]
  },
  {
   "cell_type": "code",
   "execution_count": 2714,
   "metadata": {},
   "outputs": [
    {
     "data": {
      "text/plain": [
       "<matplotlib.axes._subplots.AxesSubplot at 0x1ea09671040>"
      ]
     },
     "execution_count": 2714,
     "metadata": {},
     "output_type": "execute_result"
    },
    {
     "data": {
      "image/png": "[encoded data removed]",
      "text/plain": [
       "<Figure size 1080x720 with 2 Axes>"
      ]
     },
     "metadata": {
      "needs_background": "light"
     },
     "output_type": "display_data"
    }
   ],
   "source": [
    "plt.rcParams['figure.figsize'] = (15,10)\n",
    "sns.heatmap(df.corr())"
   ]
  },
  {
   "cell_type": "markdown",
   "metadata": {},
   "source": [
    "Удалим лишние признаки"
   ]
  },
  {
   "cell_type": "code",
   "execution_count": 2715,
   "metadata": {},
   "outputs": [],
   "source": [
    "df.drop(['City', 'Cuisine Style', 'Price Range', 'Reviews', 'URL_TA',\n",
    "         'ID_TA', 'Last_Review', 'First_Review'], axis='columns', inplace=True)"
   ]
  },
  {
   "cell_type": "code",
   "execution_count": 2716,
   "metadata": {},
   "outputs": [
    {
     "name": "stdout",
     "output_type": "stream",
     "text": [
      "<class 'pandas.core.frame.DataFrame'>\n",
      "RangeIndex: 40000 entries, 0 to 39999\n",
      "Data columns (total 36 columns):\n",
      " #   Column                               Non-Null Count  Dtype  \n",
      "---  ------                               --------------  -----  \n",
      " 0   Restaurant_id                        40000 non-null  object \n",
      " 1   Ranking                              40000 non-null  float64\n",
      " 2   Rating                               40000 non-null  float64\n",
      " 3   Number of Reviews                    40000 non-null  float64\n",
      " 4   Vegetarian Friendly                  40000 non-null  int64  \n",
      " 5   Fast Food                            40000 non-null  int64  \n",
      " 6   European                             40000 non-null  int64  \n",
      " 7   Mediterranean                        40000 non-null  int64  \n",
      " 8   Italian                              40000 non-null  int64  \n",
      " 9   Vegan Options                        40000 non-null  int64  \n",
      " 10  Gluten Free Options                  40000 non-null  int64  \n",
      " 11  Bar                                  40000 non-null  int64  \n",
      " 12  French                               40000 non-null  int64  \n",
      " 13  Asian                                40000 non-null  int64  \n",
      " 14  Pizza                                40000 non-null  int64  \n",
      " 15  Spanish                              40000 non-null  int64  \n",
      " 16  Pub                                  40000 non-null  int64  \n",
      " 17  Cafe                                 40000 non-null  int64  \n",
      " 18  British                              40000 non-null  int64  \n",
      " 19  International                        40000 non-null  int64  \n",
      " 20  Seafood                              40000 non-null  int64  \n",
      " 21  Japanese                             40000 non-null  int64  \n",
      " 22  Central European                     40000 non-null  int64  \n",
      " 23  American                             40000 non-null  int64  \n",
      " 24  Cuisine Rare                         40000 non-null  int64  \n",
      " 25  Days_Between_Reviews                 40000 non-null  float64\n",
      " 26  Positive_Revies                      40000 non-null  int64  \n",
      " 27  Negative_Revies                      40000 non-null  int64  \n",
      " 28  Rewiews_by_City                      40000 non-null  float64\n",
      " 29  Relative_Rank_Reviews                40000 non-null  float64\n",
      " 30  Price_Range_by_City                  40000 non-null  float64\n",
      " 31  Relative_Price_Range                 40000 non-null  float64\n",
      " 32  Days_Between_Reviews_by_City         40000 non-null  float64\n",
      " 33  Relative_Days_Between_Reviews_Range  40000 non-null  float64\n",
      " 34  Cuisines_by_City                     40000 non-null  int64  \n",
      " 35  Relative_Cuisines_Range_by_City      40000 non-null  float64\n",
      "dtypes: float64(11), int64(24), object(1)\n",
      "memory usage: 11.0+ MB\n"
     ]
    }
   ],
   "source": [
    "df.info()"
   ]
  },
  {
   "cell_type": "markdown",
   "metadata": {},
   "source": [
    "# Разбиваем датафрейм на части, необходимые для обучения и тестирования модели"
   ]
  },
  {
   "cell_type": "code",
   "execution_count": 2717,
   "metadata": {},
   "outputs": [],
   "source": [
    "# Х - данные с информацией о ресторанах, у - целевая переменная (рейтинги ресторанов)\n",
    "X = df.drop(['Restaurant_id', 'Rating'], axis=1)\n",
    "y = df['Rating']"
   ]
  },
  {
   "cell_type": "code",
   "execution_count": 2718,
   "metadata": {},
   "outputs": [],
   "source": [
    "# Загружаем специальный инструмент для разбивки:\n",
    "from sklearn.model_selection import train_test_split"
   ]
  },
  {
   "cell_type": "code",
   "execution_count": 2719,
   "metadata": {},
   "outputs": [],
   "source": [
    "# Наборы данных с меткой \"train\" будут использоваться для обучения модели, \"test\" - для тестирования.\n",
    "# Для тестирования мы будем использовать 25% от исходного датасета.\n",
    "X_train, X_test, y_train, y_test = train_test_split(X, y, test_size=0.25, random_state=RANDOM_SEED)"
   ]
  },
  {
   "cell_type": "markdown",
   "metadata": {},
   "source": [
    "# Создаём, обучаем и тестируем модель"
   ]
  },
  {
   "cell_type": "code",
   "execution_count": 2720,
   "metadata": {},
   "outputs": [],
   "source": [
    "# Импортируем необходимые библиотеки:\n",
    "# инструмент для создания и обучения модели\n",
    "from sklearn.ensemble import RandomForestRegressor\n",
    "from sklearn import metrics  # инструменты для оценки точности модели"
   ]
  },
  {
   "cell_type": "code",
   "execution_count": 2721,
   "metadata": {},
   "outputs": [],
   "source": [
    "# Создаём модель\n",
    "regr = RandomForestRegressor(n_estimators=100)\n",
    "\n",
    "# Обучаем модель на тестовом наборе данных\n",
    "regr.fit(X_train, y_train)\n",
    "\n",
    "# Используем обученную модель для предсказания рейтинга ресторанов в тестовой выборке.\n",
    "# Предсказанные значения записываем в переменную y_pred\n",
    "y_pred = regr.predict(X_test)"
   ]
  },
  {
   "cell_type": "code",
   "execution_count": 2722,
   "metadata": {},
   "outputs": [
    {
     "name": "stdout",
     "output_type": "stream",
     "text": [
      "MAE: 0.21254650000000003\n"
     ]
    }
   ],
   "source": [
    "# Сравниваем предсказанные значения (y_pred) с реальными (y_test), и смотрим насколько они в среднем отличаются\n",
    "# Метрика называется Mean Absolute Error (MAE) и показывает среднее отклонение предсказанных значений от фактических.\n",
    "print('MAE:', metrics.mean_absolute_error(y_test, y_pred))"
   ]
  },
  {
   "cell_type": "code",
   "execution_count": 2723,
   "metadata": {},
   "outputs": [
    {
     "data": {
      "text/plain": [
       "<matplotlib.axes._subplots.AxesSubplot at 0x1e9ca3748e0>"
      ]
     },
     "execution_count": 2723,
     "metadata": {},
     "output_type": "execute_result"
    },
    {
     "data": {
      "image/png": "[encoded data removed]",
      "text/plain": [
       "<Figure size 720x720 with 1 Axes>"
      ]
     },
     "metadata": {
      "needs_background": "light"
     },
     "output_type": "display_data"
    }
   ],
   "source": [
    "# в RandomForestRegressor есть возможность вывести самые важные признаки для модели\n",
    "plt.rcParams['figure.figsize'] = (10, 10)\n",
    "feat_importances = pd.Series(regr.feature_importances_, index=X.columns)\n",
    "feat_importances.nlargest(15).plot(kind='barh')"
   ]
  },
  {
   "cell_type": "markdown",
   "metadata": {},
   "source": [
    "\n",
    "\n",
    "## Выводы\n",
    "\n",
    "В результате мы видим, что наибольшее влияние на среднее отклонение предсказанных значений имеют относительные признаки связанные с рангом  ресторанов, что в принципе понятно.\n",
    "Из тепловой диаграммы корреляции признаков видно, что ранг и рейтинг находятся в прямой зависимости.\n",
    "\n",
    "Использование данных по видам кухонь не оказало на прямую никакого влияния на рейтинг.\n",
    "А вот их количество на уровне города оказывает наибольшее влиание.\n",
    "\n",
    "Я отказался от попытки даммировать города, т.к. не вижу в этом логики. По видимому необходимо добавлять дополнительные данные по городам, что бы это хоть как-то повлияло на рейтинг.\n",
    "\n",
    "Так же сильное влияние на рейтинг оказывают количество отзывов и количество дней между отзывами.\n",
    "\n",
    "По видимому, что да могло помочь в предсказании рейтинга, это количество положительный и отрицательный отзывов.\n",
    "Но в связи с очень незначительным количеством самих отзывов в колонке Reviews и, соответсвенно близким результатом в указанных колонках, значение этих наиважнейших признаков ослабленно.\n",
    "Т.е. для более точтного рассчета рейтинга необходим более полный список отзывов."
   ]
  }
 ],
 "metadata": {
  "kernelspec": {
   "display_name": "Python 3",
   "language": "python",
   "name": "python3"
  },
  "language_info": {
   "codemirror_mode": {
    "name": "ipython",
    "version": 3
   },
   "file_extension": ".py",
   "mimetype": "text/x-python",
   "name": "python",
   "nbconvert_exporter": "python",
   "pygments_lexer": "ipython3",
   "version": "3.8.3"
  }
 },
 "nbformat": 4,
 "nbformat_minor": 2
}
